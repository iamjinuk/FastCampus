{
 "cells": [
  {
   "cell_type": "markdown",
   "metadata": {},
   "source": [
    "# 0. 분석의 목적"
   ]
  },
  {
   "cell_type": "markdown",
   "metadata": {},
   "source": [
    "온라인 교육 서비스 업체의 실제 네이버 집행광고 데이터를 바탕으로 광고 효율을 파악하고, 중점관리 광고그룹(카테고리)과 광고 키워드를 선정하여 지표로 제공"
   ]
  },
  {
   "cell_type": "markdown",
   "metadata": {},
   "source": [
    "### #  광고성과지표\n",
    "| 광고성과지표 | = | 계산식 |\n",
    "|:---------- |---------- |:---------- |\n",
    "|CTR(Click Through Rate)|=|클릭수 / 노출수 * 100|\n",
    "|CPM(Cost Per Mile)|=|광고비용 / 노출수 * 1000|\n",
    "|CPC(Cost Per Click)|=|광고비용 / 클릭수|\n",
    "|CPA(Cost Per Action)|=|광고비용 / 구매수|"
   ]
  },
  {
   "cell_type": "markdown",
   "metadata": {},
   "source": [
    "----------------------"
   ]
  },
  {
   "cell_type": "markdown",
   "metadata": {},
   "source": [
    "# 1. 기본 설정"
   ]
  },
  {
   "cell_type": "code",
   "execution_count": 208,
   "metadata": {},
   "outputs": [],
   "source": [
    "import pandas as pd\n",
    "from pandas import DataFrame\n",
    "from pandas import Series\n",
    "import numpy as np\n",
    "\n",
    "import matplotlib.pyplot as plt"
   ]
  },
  {
   "cell_type": "code",
   "execution_count": 3,
   "metadata": {},
   "outputs": [],
   "source": [
    "# matplotlib 한글 폰트 출력코드\n",
    "# 출처 : 데이터공방( https://kiddwannabe.blog.me)\n",
    "\n",
    "import matplotlib\n",
    "from matplotlib import font_manager, rc\n",
    "import platform\n",
    "\n",
    "try : \n",
    "    if platform.system() == 'Windows':\n",
    "    # 윈도우인 경우\n",
    "        font_name = font_manager.FontProperties(fname=\"c:/Windows/Fonts/malgun.ttf\").get_name()\n",
    "        rc('font', family=font_name)\n",
    "    else:    \n",
    "    # Mac 인 경우\n",
    "        rc('font', family='AppleGothic')\n",
    "except : \n",
    "    pass\n",
    "matplotlib.rcParams['axes.unicode_minus'] = False   "
   ]
  },
  {
   "cell_type": "code",
   "execution_count": null,
   "metadata": {},
   "outputs": [],
   "source": []
  },
  {
   "cell_type": "markdown",
   "metadata": {},
   "source": [
    "------------------------"
   ]
  },
  {
   "cell_type": "markdown",
   "metadata": {},
   "source": [
    "# 2. 데이터 호출 및 기본 탐색"
   ]
  },
  {
   "cell_type": "code",
   "execution_count": 117,
   "metadata": {},
   "outputs": [
    {
     "data": {
      "text/html": [
       "<div>\n",
       "<style scoped>\n",
       "    .dataframe tbody tr th:only-of-type {\n",
       "        vertical-align: middle;\n",
       "    }\n",
       "\n",
       "    .dataframe tbody tr th {\n",
       "        vertical-align: top;\n",
       "    }\n",
       "\n",
       "    .dataframe thead th {\n",
       "        text-align: right;\n",
       "    }\n",
       "</style>\n",
       "<table border=\"1\" class=\"dataframe\">\n",
       "  <thead>\n",
       "    <tr style=\"text-align: right;\">\n",
       "      <th></th>\n",
       "      <th>광고그룹</th>\n",
       "      <th>키워드</th>\n",
       "      <th>노출수</th>\n",
       "      <th>클릭수</th>\n",
       "      <th>클릭률(%)</th>\n",
       "      <th>평균클릭비용(VAT포함,원)</th>\n",
       "      <th>총비용(VAT포함,원)</th>\n",
       "    </tr>\n",
       "  </thead>\n",
       "  <tbody>\n",
       "    <tr>\n",
       "      <th>0</th>\n",
       "      <td>올인원 패키지 : 디자인 툴_파워컨텐츠_포토샵</td>\n",
       "      <td>-</td>\n",
       "      <td>2319456</td>\n",
       "      <td>9606.00</td>\n",
       "      <td>0.41</td>\n",
       "      <td>261.55</td>\n",
       "      <td>2512444</td>\n",
       "    </tr>\n",
       "    <tr>\n",
       "      <th>1</th>\n",
       "      <td>올인원 패키지 : 업무자동화_VBA</td>\n",
       "      <td>-</td>\n",
       "      <td>767491</td>\n",
       "      <td>8058.00</td>\n",
       "      <td>1.05</td>\n",
       "      <td>295.97</td>\n",
       "      <td>2384965</td>\n",
       "    </tr>\n",
       "    <tr>\n",
       "      <th>2</th>\n",
       "      <td>ㅍAOP 전체_중복키워드_디자인(삭제)</td>\n",
       "      <td>일러스트</td>\n",
       "      <td>1137840</td>\n",
       "      <td>324.00</td>\n",
       "      <td>0.03</td>\n",
       "      <td>4841.66</td>\n",
       "      <td>1568699</td>\n",
       "    </tr>\n",
       "    <tr>\n",
       "      <th>3</th>\n",
       "      <td>올인원 패키지 : 데이터 분석 입문 온라인_파콘</td>\n",
       "      <td>-</td>\n",
       "      <td>694106</td>\n",
       "      <td>1863.60</td>\n",
       "      <td>0.27</td>\n",
       "      <td>630.59</td>\n",
       "      <td>1175174</td>\n",
       "    </tr>\n",
       "    <tr>\n",
       "      <th>4</th>\n",
       "      <td>3. html</td>\n",
       "      <td>HTML</td>\n",
       "      <td>9626374</td>\n",
       "      <td>813.60</td>\n",
       "      <td>0.01</td>\n",
       "      <td>1408.44</td>\n",
       "      <td>1145903</td>\n",
       "    </tr>\n",
       "  </tbody>\n",
       "</table>\n",
       "</div>"
      ],
      "text/plain": [
       "                         광고그룹   키워드      노출수     클릭수  클릭률(%)  평균클릭비용(VAT포함,원)  \\\n",
       "0   올인원 패키지 : 디자인 툴_파워컨텐츠_포토샵     -  2319456 9606.00    0.41           261.55   \n",
       "1         올인원 패키지 : 업무자동화_VBA     -   767491 8058.00    1.05           295.97   \n",
       "2       ㅍAOP 전체_중복키워드_디자인(삭제)  일러스트  1137840  324.00    0.03          4841.66   \n",
       "3  올인원 패키지 : 데이터 분석 입문 온라인_파콘     -   694106 1863.60    0.27           630.59   \n",
       "4                     3. html  HTML  9626374  813.60    0.01          1408.44   \n",
       "\n",
       "   총비용(VAT포함,원)  \n",
       "0       2512444  \n",
       "1       2384965  \n",
       "2       1568699  \n",
       "3       1175174  \n",
       "4       1145903  "
      ]
     },
     "execution_count": 117,
     "metadata": {},
     "output_type": "execute_result"
    }
   ],
   "source": [
    "df=pd.read_excel('./data/네이버보고서.xls', utf='kr',skiprows=[0])\n",
    "df.head()"
   ]
  },
  {
   "cell_type": "code",
   "execution_count": 118,
   "metadata": {},
   "outputs": [
    {
     "name": "stdout",
     "output_type": "stream",
     "text": [
      "<class 'pandas.core.frame.DataFrame'>\n",
      "RangeIndex: 1381 entries, 0 to 1380\n",
      "Data columns (total 7 columns):\n",
      " #   Column           Non-Null Count  Dtype  \n",
      "---  ------           --------------  -----  \n",
      " 0   광고그룹             1381 non-null   object \n",
      " 1   키워드              1381 non-null   object \n",
      " 2   노출수              1381 non-null   int64  \n",
      " 3   클릭수              1381 non-null   float64\n",
      " 4   클릭률(%)           1381 non-null   float64\n",
      " 5   평균클릭비용(VAT포함,원)  1381 non-null   float64\n",
      " 6   총비용(VAT포함,원)     1381 non-null   int64  \n",
      "dtypes: float64(3), int64(2), object(2)\n",
      "memory usage: 75.6+ KB\n"
     ]
    }
   ],
   "source": [
    "df.info()"
   ]
  },
  {
   "cell_type": "code",
   "execution_count": 119,
   "metadata": {
    "scrolled": true
   },
   "outputs": [
    {
     "data": {
      "text/html": [
       "<div>\n",
       "<style scoped>\n",
       "    .dataframe tbody tr th:only-of-type {\n",
       "        vertical-align: middle;\n",
       "    }\n",
       "\n",
       "    .dataframe tbody tr th {\n",
       "        vertical-align: top;\n",
       "    }\n",
       "\n",
       "    .dataframe thead th {\n",
       "        text-align: right;\n",
       "    }\n",
       "</style>\n",
       "<table border=\"1\" class=\"dataframe\">\n",
       "  <thead>\n",
       "    <tr style=\"text-align: right;\">\n",
       "      <th></th>\n",
       "      <th>노출수</th>\n",
       "      <th>클릭수</th>\n",
       "      <th>클릭률(%)</th>\n",
       "      <th>평균클릭비용(VAT포함,원)</th>\n",
       "      <th>총비용(VAT포함,원)</th>\n",
       "    </tr>\n",
       "  </thead>\n",
       "  <tbody>\n",
       "    <tr>\n",
       "      <th>count</th>\n",
       "      <td>1381.00</td>\n",
       "      <td>1381.00</td>\n",
       "      <td>1381.00</td>\n",
       "      <td>1381.00</td>\n",
       "      <td>1381.00</td>\n",
       "    </tr>\n",
       "    <tr>\n",
       "      <th>mean</th>\n",
       "      <td>35054.15</td>\n",
       "      <td>52.53</td>\n",
       "      <td>0.35</td>\n",
       "      <td>981.63</td>\n",
       "      <td>37919.58</td>\n",
       "    </tr>\n",
       "    <tr>\n",
       "      <th>std</th>\n",
       "      <td>296465.03</td>\n",
       "      <td>387.50</td>\n",
       "      <td>1.00</td>\n",
       "      <td>1372.39</td>\n",
       "      <td>142149.16</td>\n",
       "    </tr>\n",
       "    <tr>\n",
       "      <th>min</th>\n",
       "      <td>1001.00</td>\n",
       "      <td>0.00</td>\n",
       "      <td>0.00</td>\n",
       "      <td>0.00</td>\n",
       "      <td>0.00</td>\n",
       "    </tr>\n",
       "    <tr>\n",
       "      <th>25%</th>\n",
       "      <td>1814.00</td>\n",
       "      <td>1.20</td>\n",
       "      <td>0.01</td>\n",
       "      <td>64.17</td>\n",
       "      <td>77.00</td>\n",
       "    </tr>\n",
       "    <tr>\n",
       "      <th>50%</th>\n",
       "      <td>3805.00</td>\n",
       "      <td>3.60</td>\n",
       "      <td>0.06</td>\n",
       "      <td>395.98</td>\n",
       "      <td>2123.00</td>\n",
       "    </tr>\n",
       "    <tr>\n",
       "      <th>75%</th>\n",
       "      <td>10734.00</td>\n",
       "      <td>14.40</td>\n",
       "      <td>0.24</td>\n",
       "      <td>1302.81</td>\n",
       "      <td>17435.00</td>\n",
       "    </tr>\n",
       "    <tr>\n",
       "      <th>max</th>\n",
       "      <td>9626374.00</td>\n",
       "      <td>9606.00</td>\n",
       "      <td>13.59</td>\n",
       "      <td>9362.53</td>\n",
       "      <td>2512444.00</td>\n",
       "    </tr>\n",
       "  </tbody>\n",
       "</table>\n",
       "</div>"
      ],
      "text/plain": [
       "             노출수     클릭수  클릭률(%)  평균클릭비용(VAT포함,원)  총비용(VAT포함,원)\n",
       "count    1381.00 1381.00 1381.00          1381.00       1381.00\n",
       "mean    35054.15   52.53    0.35           981.63      37919.58\n",
       "std    296465.03  387.50    1.00          1372.39     142149.16\n",
       "min      1001.00    0.00    0.00             0.00          0.00\n",
       "25%      1814.00    1.20    0.01            64.17         77.00\n",
       "50%      3805.00    3.60    0.06           395.98       2123.00\n",
       "75%     10734.00   14.40    0.24          1302.81      17435.00\n",
       "max   9626374.00 9606.00   13.59          9362.53    2512444.00"
      ]
     },
     "execution_count": 119,
     "metadata": {},
     "output_type": "execute_result"
    }
   ],
   "source": [
    "df.describe()"
   ]
  },
  {
   "cell_type": "code",
   "execution_count": 46,
   "metadata": {},
   "outputs": [
    {
     "data": {
      "text/plain": [
       "Index(['광고그룹', '키워드', '노출수', '클릭수', '클릭률(%)', '평균클릭비용(VAT포함,원)',\n",
       "       '총비용(VAT포함,원)'],\n",
       "      dtype='object')"
      ]
     },
     "execution_count": 46,
     "metadata": {},
     "output_type": "execute_result"
    }
   ],
   "source": [
    "df.columns"
   ]
  },
  {
   "cell_type": "code",
   "execution_count": 64,
   "metadata": {},
   "outputs": [],
   "source": [
    "# ★☆★☆★☆★☆★☆★☆★☆★☆★☆★☆\n",
    "# 항상 float 형식으로, 실수는 소수점 2자리로 반올림하여 출력\n",
    "\n",
    "pd.set_option('display.float_format', '{:.2f}'.format) "
   ]
  },
  {
   "cell_type": "code",
   "execution_count": 120,
   "metadata": {},
   "outputs": [
    {
     "data": {
      "text/plain": [
       "광고그룹               0\n",
       "키워드                0\n",
       "노출수                0\n",
       "클릭수                0\n",
       "클릭률(%)             0\n",
       "평균클릭비용(VAT포함,원)    0\n",
       "총비용(VAT포함,원)       0\n",
       "dtype: int64"
      ]
     },
     "execution_count": 120,
     "metadata": {},
     "output_type": "execute_result"
    }
   ],
   "source": [
    "df.isnull().sum() #칼럼 단위 결측치 확인\n",
    "# df.isnull().sum(axis=1) #행 단위 결측치 확인"
   ]
  },
  {
   "cell_type": "code",
   "execution_count": 47,
   "metadata": {},
   "outputs": [
    {
     "name": "stdout",
     "output_type": "stream",
     "text": [
      "행과 열 :  (1381, 7)\n",
      "광고그룹 고유 개수 : 186\n",
      "키워드 고유 개수 :  1112\n"
     ]
    }
   ],
   "source": [
    "print('행과 열 : ', df.shape)\n",
    "print('광고그룹 고유 개수 :', df['광고그룹'].nunique())\n",
    "print('키워드 고유 개수 : ', df['키워드'].nunique())"
   ]
  },
  {
   "cell_type": "code",
   "execution_count": 48,
   "metadata": {},
   "outputs": [
    {
     "data": {
      "text/plain": [
       "올인원 패키지 : 업무자동화_3. 엑셀            93\n",
       "AOP 전체_중복키워드_디자인                 57\n",
       "#000_마케팅 전체_main                 48\n",
       "ㅍAOP 전체_중복키워드_디자인(삭제)            46\n",
       "1. 전체                            26\n",
       "                                 ..\n",
       "올인원 패키지 : 디지털 마케팅_2. 페이스북 광고      1\n",
       "올인원 패키지 : 파이썬 웹 개발_3.FLASK기초      1\n",
       "올인원 패키지 : 1인 쇼핑몰 시작하기_04.호스팅사     1\n",
       "올인원 패키지 : 영상 제작/편집_10.패캠강의        1\n",
       "프론트엔드 개발 스쿨 12기_기존 키워드            1\n",
       "Name: 광고그룹, Length: 186, dtype: int64"
      ]
     },
     "execution_count": 48,
     "metadata": {},
     "output_type": "execute_result"
    }
   ],
   "source": [
    "df['광고그룹'].value_counts()"
   ]
  },
  {
   "cell_type": "markdown",
   "metadata": {},
   "source": [
    "### <기본 탐색 내용 정리>"
   ]
  },
  {
   "cell_type": "markdown",
   "metadata": {},
   "source": [
    "- 행 : 1381 \n",
    "- 열 : 7\n",
    "- 광고그룹 수 : 186\n",
    "- 광고 키워드 수 : 1112"
   ]
  },
  {
   "cell_type": "markdown",
   "metadata": {},
   "source": [
    "------------------------"
   ]
  },
  {
   "cell_type": "markdown",
   "metadata": {},
   "source": [
    "# 3. CPM 성과 시각화"
   ]
  },
  {
   "cell_type": "code",
   "execution_count": 124,
   "metadata": {},
   "outputs": [
    {
     "data": {
      "text/plain": [
       "4       9626374\n",
       "173     3095998\n",
       "0       2319456\n",
       "9       1887822\n",
       "13      1470452\n",
       "         ...   \n",
       "442        1007\n",
       "983        1006\n",
       "597        1005\n",
       "445        1003\n",
       "1057       1001\n",
       "Name: 노출수, Length: 1381, dtype: int64"
      ]
     },
     "execution_count": 124,
     "metadata": {},
     "output_type": "execute_result"
    }
   ],
   "source": [
    "df['노출수'].sort_values(ascending=False)"
   ]
  },
  {
   "cell_type": "code",
   "execution_count": 206,
   "metadata": {},
   "outputs": [
    {
     "data": {
      "text/html": [
       "<div>\n",
       "<style scoped>\n",
       "    .dataframe tbody tr th:only-of-type {\n",
       "        vertical-align: middle;\n",
       "    }\n",
       "\n",
       "    .dataframe tbody tr th {\n",
       "        vertical-align: top;\n",
       "    }\n",
       "\n",
       "    .dataframe thead th {\n",
       "        text-align: right;\n",
       "    }\n",
       "</style>\n",
       "<table border=\"1\" class=\"dataframe\">\n",
       "  <thead>\n",
       "    <tr style=\"text-align: right;\">\n",
       "      <th></th>\n",
       "      <th>노출수</th>\n",
       "    </tr>\n",
       "  </thead>\n",
       "  <tbody>\n",
       "    <tr>\n",
       "      <th>0</th>\n",
       "      <td>1001</td>\n",
       "    </tr>\n",
       "    <tr>\n",
       "      <th>1</th>\n",
       "      <td>1003</td>\n",
       "    </tr>\n",
       "    <tr>\n",
       "      <th>2</th>\n",
       "      <td>1005</td>\n",
       "    </tr>\n",
       "    <tr>\n",
       "      <th>3</th>\n",
       "      <td>1006</td>\n",
       "    </tr>\n",
       "    <tr>\n",
       "      <th>4</th>\n",
       "      <td>1007</td>\n",
       "    </tr>\n",
       "    <tr>\n",
       "      <th>...</th>\n",
       "      <td>...</td>\n",
       "    </tr>\n",
       "    <tr>\n",
       "      <th>1376</th>\n",
       "      <td>1470452</td>\n",
       "    </tr>\n",
       "    <tr>\n",
       "      <th>1377</th>\n",
       "      <td>1887822</td>\n",
       "    </tr>\n",
       "    <tr>\n",
       "      <th>1378</th>\n",
       "      <td>2319456</td>\n",
       "    </tr>\n",
       "    <tr>\n",
       "      <th>1379</th>\n",
       "      <td>3095998</td>\n",
       "    </tr>\n",
       "    <tr>\n",
       "      <th>1380</th>\n",
       "      <td>9626374</td>\n",
       "    </tr>\n",
       "  </tbody>\n",
       "</table>\n",
       "<p>1381 rows × 1 columns</p>\n",
       "</div>"
      ],
      "text/plain": [
       "          노출수\n",
       "0        1001\n",
       "1        1003\n",
       "2        1005\n",
       "3        1006\n",
       "4        1007\n",
       "...       ...\n",
       "1376  1470452\n",
       "1377  1887822\n",
       "1378  2319456\n",
       "1379  3095998\n",
       "1380  9626374\n",
       "\n",
       "[1381 rows x 1 columns]"
      ]
     },
     "execution_count": 206,
     "metadata": {},
     "output_type": "execute_result"
    }
   ],
   "source": [
    "imp_sort = df['노출수'].sort_values()\n",
    "imp_sort = imp_sort.reset_index() #기본 인덱스 설정\n",
    "imp_sort.drop('index',axis=1,inplace=True)\n",
    "imp_sort"
   ]
  },
  {
   "cell_type": "code",
   "execution_count": 286,
   "metadata": {},
   "outputs": [
    {
     "data": {
      "text/html": [
       "<div>\n",
       "<style scoped>\n",
       "    .dataframe tbody tr th:only-of-type {\n",
       "        vertical-align: middle;\n",
       "    }\n",
       "\n",
       "    .dataframe tbody tr th {\n",
       "        vertical-align: top;\n",
       "    }\n",
       "\n",
       "    .dataframe thead th {\n",
       "        text-align: right;\n",
       "    }\n",
       "</style>\n",
       "<table border=\"1\" class=\"dataframe\">\n",
       "  <thead>\n",
       "    <tr style=\"text-align: right;\">\n",
       "      <th></th>\n",
       "      <th>총비용(VAT포함,원)</th>\n",
       "    </tr>\n",
       "  </thead>\n",
       "  <tbody>\n",
       "    <tr>\n",
       "      <th>0</th>\n",
       "      <td>0</td>\n",
       "    </tr>\n",
       "    <tr>\n",
       "      <th>1</th>\n",
       "      <td>0</td>\n",
       "    </tr>\n",
       "    <tr>\n",
       "      <th>2</th>\n",
       "      <td>0</td>\n",
       "    </tr>\n",
       "    <tr>\n",
       "      <th>3</th>\n",
       "      <td>0</td>\n",
       "    </tr>\n",
       "    <tr>\n",
       "      <th>4</th>\n",
       "      <td>0</td>\n",
       "    </tr>\n",
       "    <tr>\n",
       "      <th>...</th>\n",
       "      <td>...</td>\n",
       "    </tr>\n",
       "    <tr>\n",
       "      <th>1376</th>\n",
       "      <td>1145903</td>\n",
       "    </tr>\n",
       "    <tr>\n",
       "      <th>1377</th>\n",
       "      <td>1175174</td>\n",
       "    </tr>\n",
       "    <tr>\n",
       "      <th>1378</th>\n",
       "      <td>1568699</td>\n",
       "    </tr>\n",
       "    <tr>\n",
       "      <th>1379</th>\n",
       "      <td>2384965</td>\n",
       "    </tr>\n",
       "    <tr>\n",
       "      <th>1380</th>\n",
       "      <td>2512444</td>\n",
       "    </tr>\n",
       "  </tbody>\n",
       "</table>\n",
       "<p>1381 rows × 1 columns</p>\n",
       "</div>"
      ],
      "text/plain": [
       "      총비용(VAT포함,원)\n",
       "0                0\n",
       "1                0\n",
       "2                0\n",
       "3                0\n",
       "4                0\n",
       "...            ...\n",
       "1376       1145903\n",
       "1377       1175174\n",
       "1378       1568699\n",
       "1379       2384965\n",
       "1380       2512444\n",
       "\n",
       "[1381 rows x 1 columns]"
      ]
     },
     "execution_count": 286,
     "metadata": {},
     "output_type": "execute_result"
    }
   ],
   "source": [
    "cost_sort = pd.DataFrame(df['총비용(VAT포함,원)'].sort_values()).reset_index()\n",
    "cost_sort.drop('index',axis=1, inplace=True)\n",
    "cost_sort"
   ]
  },
  {
   "cell_type": "code",
   "execution_count": 220,
   "metadata": {},
   "outputs": [],
   "source": [
    "plot_index = np.array([1000,1400])"
   ]
  },
  {
   "cell_type": "code",
   "execution_count": 225,
   "metadata": {},
   "outputs": [
    {
     "data": {
      "image/png": "[encoded data removed]",
      "text/plain": [
       "<Figure size 432x288 with 1 Axes>"
      ]
     },
     "metadata": {
      "needs_background": "light"
     },
     "output_type": "display_data"
    },
    {
     "data": {
      "image/png": "[encoded data removed]",
      "text/plain": [
       "<Figure size 432x288 with 1 Axes>"
      ]
     },
     "metadata": {
      "needs_background": "light"
     },
     "output_type": "display_data"
    }
   ],
   "source": [
    "# 노출수 차트 시각화\n",
    "imp_sort.plot()\n",
    "plt.grid(True)\n",
    "plt.vlines(1000, ymin = 0, ymax = 9626374, linestyle='dashed', color='r', label='집중 관찰 구간');\n",
    "plt.vlines(1400, ymin = 0, ymax = 9626374, linestyle='dashed', color='r');\n",
    "plt.fill_between(plot_index, 0, 9626374, color='black', alpha=0.1, label='집중 관찰 구간')\n",
    "plt.legend(loc='upper left')\n",
    "plt.show()\n",
    "\n",
    "# 총비용(VAT포함,원) 차트 시각화\n",
    "cost_sort.plot()\n",
    "plt.grid(True)\n",
    "plt.vlines(1000, ymin = 0, ymax = 2512444, linestyle='dashed', color='r', label='집중 관찰 구간');\n",
    "plt.vlines(1400, ymin = 0, ymax = 2512444, linestyle='dashed', color='r');\n",
    "plt.fill_between(plot_index, 0, 2512444, color='black', alpha=0.1, label='집중 관찰 구간')\n",
    "plt.legend(loc='upper left')"
   ]
  },
  {
   "cell_type": "markdown",
   "metadata": {},
   "source": [
    "### 겹치기 + 확대"
   ]
  },
  {
   "cell_type": "code",
   "execution_count": 247,
   "metadata": {
    "scrolled": true
   },
   "outputs": [
    {
     "data": {
      "text/plain": [
       "<matplotlib.legend.Legend at 0x14e074366a0>"
      ]
     },
     "execution_count": 247,
     "metadata": {},
     "output_type": "execute_result"
    },
    {
     "data": {
      "image/png": "[encoded data removed]",
      "text/plain": [
       "<Figure size 432x288 with 1 Axes>"
      ]
     },
     "metadata": {
      "needs_background": "light"
     },
     "output_type": "display_data"
    }
   ],
   "source": [
    "# plt.figure(figsize=(15,5))\n",
    "plt.plot(imp_sort[(imp_sort.index>1100)&(imp_sort['노출수']<2512444)], label='노출수')\n",
    "plt.plot(cost_sort[cost_sort.index>1100], label='총비용(VAT포함,원)')\n",
    "plt.grid(True)\n",
    "plt.legend(loc='upper left')"
   ]
  },
  {
   "cell_type": "markdown",
   "metadata": {},
   "source": [
    "▶ 일반적으로 광고 비용과 노출수는 비례하지만, 곡선의 기울기를 통해 확인할 수 있듯 투자 비용대비 노출수가 상대적으로 낮은 광고가 존재한다.\n",
    "    "
   ]
  },
  {
   "cell_type": "code",
   "execution_count": null,
   "metadata": {},
   "outputs": [],
   "source": []
  },
  {
   "cell_type": "markdown",
   "metadata": {},
   "source": [
    "-------------------------------------"
   ]
  },
  {
   "cell_type": "markdown",
   "metadata": {},
   "source": [
    "# 4. 중점관리키워드 추출"
   ]
  },
  {
   "cell_type": "markdown",
   "metadata": {},
   "source": [
    "### 4-1. 고효율키워드 선별 : 높은 클릭수와 노출수를 기록한 키워드를 판별\n",
    "- 노출수, 클릭수 기준 상위 5%에 해당하는 키워드 추출 "
   ]
  },
  {
   "cell_type": "code",
   "execution_count": 65,
   "metadata": {},
   "outputs": [
    {
     "data": {
      "text/html": [
       "<div>\n",
       "<style scoped>\n",
       "    .dataframe tbody tr th:only-of-type {\n",
       "        vertical-align: middle;\n",
       "    }\n",
       "\n",
       "    .dataframe tbody tr th {\n",
       "        vertical-align: top;\n",
       "    }\n",
       "\n",
       "    .dataframe thead th {\n",
       "        text-align: right;\n",
       "    }\n",
       "</style>\n",
       "<table border=\"1\" class=\"dataframe\">\n",
       "  <thead>\n",
       "    <tr style=\"text-align: right;\">\n",
       "      <th></th>\n",
       "      <th>노출수</th>\n",
       "      <th>클릭수</th>\n",
       "      <th>클릭률(%)</th>\n",
       "      <th>평균클릭비용(VAT포함,원)</th>\n",
       "      <th>총비용(VAT포함,원)</th>\n",
       "    </tr>\n",
       "  </thead>\n",
       "  <tbody>\n",
       "    <tr>\n",
       "      <th>count</th>\n",
       "      <td>1381.00</td>\n",
       "      <td>1381.00</td>\n",
       "      <td>1381.00</td>\n",
       "      <td>1381.00</td>\n",
       "      <td>1381.00</td>\n",
       "    </tr>\n",
       "    <tr>\n",
       "      <th>mean</th>\n",
       "      <td>35054.15</td>\n",
       "      <td>52.53</td>\n",
       "      <td>0.35</td>\n",
       "      <td>981.63</td>\n",
       "      <td>37919.58</td>\n",
       "    </tr>\n",
       "    <tr>\n",
       "      <th>std</th>\n",
       "      <td>296465.03</td>\n",
       "      <td>387.50</td>\n",
       "      <td>1.00</td>\n",
       "      <td>1372.39</td>\n",
       "      <td>142149.16</td>\n",
       "    </tr>\n",
       "    <tr>\n",
       "      <th>min</th>\n",
       "      <td>1001.00</td>\n",
       "      <td>0.00</td>\n",
       "      <td>0.00</td>\n",
       "      <td>0.00</td>\n",
       "      <td>0.00</td>\n",
       "    </tr>\n",
       "    <tr>\n",
       "      <th>25%</th>\n",
       "      <td>1814.00</td>\n",
       "      <td>1.20</td>\n",
       "      <td>0.01</td>\n",
       "      <td>64.17</td>\n",
       "      <td>77.00</td>\n",
       "    </tr>\n",
       "    <tr>\n",
       "      <th>50%</th>\n",
       "      <td>3805.00</td>\n",
       "      <td>3.60</td>\n",
       "      <td>0.06</td>\n",
       "      <td>395.98</td>\n",
       "      <td>2123.00</td>\n",
       "    </tr>\n",
       "    <tr>\n",
       "      <th>75%</th>\n",
       "      <td>10734.00</td>\n",
       "      <td>14.40</td>\n",
       "      <td>0.24</td>\n",
       "      <td>1302.81</td>\n",
       "      <td>17435.00</td>\n",
       "    </tr>\n",
       "    <tr>\n",
       "      <th>max</th>\n",
       "      <td>9626374.00</td>\n",
       "      <td>9606.00</td>\n",
       "      <td>13.59</td>\n",
       "      <td>9362.53</td>\n",
       "      <td>2512444.00</td>\n",
       "    </tr>\n",
       "  </tbody>\n",
       "</table>\n",
       "</div>"
      ],
      "text/plain": [
       "             노출수     클릭수  클릭률(%)  평균클릭비용(VAT포함,원)  총비용(VAT포함,원)\n",
       "count    1381.00 1381.00 1381.00          1381.00       1381.00\n",
       "mean    35054.15   52.53    0.35           981.63      37919.58\n",
       "std    296465.03  387.50    1.00          1372.39     142149.16\n",
       "min      1001.00    0.00    0.00             0.00          0.00\n",
       "25%      1814.00    1.20    0.01            64.17         77.00\n",
       "50%      3805.00    3.60    0.06           395.98       2123.00\n",
       "75%     10734.00   14.40    0.24          1302.81      17435.00\n",
       "max   9626374.00 9606.00   13.59          9362.53    2512444.00"
      ]
     },
     "execution_count": 65,
     "metadata": {},
     "output_type": "execute_result"
    }
   ],
   "source": [
    "df.describe()"
   ]
  },
  {
   "cell_type": "code",
   "execution_count": 248,
   "metadata": {},
   "outputs": [],
   "source": [
    "imp=df['노출수']"
   ]
  },
  {
   "cell_type": "code",
   "execution_count": 249,
   "metadata": {},
   "outputs": [
    {
     "name": "stdout",
     "output_type": "stream",
     "text": [
      "3805.0\n",
      "3805.0\n"
     ]
    }
   ],
   "source": [
    "# impo의 4분위수 중위값 출력\n",
    "print(imp.quantile())\n",
    "print(imp.median())"
   ]
  },
  {
   "cell_type": "code",
   "execution_count": 254,
   "metadata": {},
   "outputs": [
    {
     "name": "stdout",
     "output_type": "stream",
     "text": [
      "최소 노출 수 :  1001.0\n",
      "최소 노출 수 :  1001 \n",
      "\n",
      "최대 노출 수 :  9626374.0\n",
      "최대 노출 수 :  9626374 \n",
      "\n",
      "상위 5% 노출 수 :  82858.0\n"
     ]
    }
   ],
   "source": [
    "# impo의 4분위 수 최소값 출력 min==0\n",
    "print('최소 노출 수 : ', imp.quantile(0))\n",
    "print('최소 노출 수 : ', imp.min(), '\\n')\n",
    "\n",
    "# impo의 4분위 수 최대값 출력 max==1\n",
    "print('최대 노출 수 : ', imp.quantile(1))\n",
    "print('최대 노출 수 : ', imp.max(), '\\n')\n",
    "\n",
    "# 5백분위수 이상(상위 5%)의 노출수 추출 = quantile(0.95)\n",
    "print('상위 5% 노출 수 : ', imp.quantile(0.95))"
   ]
  },
  {
   "cell_type": "code",
   "execution_count": null,
   "metadata": {},
   "outputs": [],
   "source": []
  },
  {
   "cell_type": "code",
   "execution_count": 302,
   "metadata": {},
   "outputs": [
    {
     "data": {
      "text/html": [
       "<div>\n",
       "<style scoped>\n",
       "    .dataframe tbody tr th:only-of-type {\n",
       "        vertical-align: middle;\n",
       "    }\n",
       "\n",
       "    .dataframe tbody tr th {\n",
       "        vertical-align: top;\n",
       "    }\n",
       "\n",
       "    .dataframe thead th {\n",
       "        text-align: right;\n",
       "    }\n",
       "</style>\n",
       "<table border=\"1\" class=\"dataframe\">\n",
       "  <thead>\n",
       "    <tr style=\"text-align: right;\">\n",
       "      <th></th>\n",
       "      <th>광고그룹</th>\n",
       "      <th>노출수</th>\n",
       "      <th>클릭수</th>\n",
       "      <th>클릭률(%)</th>\n",
       "      <th>평균클릭비용(VAT포함,원)</th>\n",
       "      <th>총비용(VAT포함,원)</th>\n",
       "    </tr>\n",
       "    <tr>\n",
       "      <th>키워드</th>\n",
       "      <th></th>\n",
       "      <th></th>\n",
       "      <th></th>\n",
       "      <th></th>\n",
       "      <th></th>\n",
       "      <th></th>\n",
       "    </tr>\n",
       "  </thead>\n",
       "  <tbody>\n",
       "    <tr>\n",
       "      <th>-</th>\n",
       "      <td>올인원 패키지 : 디자인 툴_파워컨텐츠_포토샵</td>\n",
       "      <td>2319456</td>\n",
       "      <td>9606.00</td>\n",
       "      <td>0.41</td>\n",
       "      <td>261.55</td>\n",
       "      <td>2512444</td>\n",
       "    </tr>\n",
       "    <tr>\n",
       "      <th>-</th>\n",
       "      <td>올인원 패키지 : 업무자동화_VBA</td>\n",
       "      <td>767491</td>\n",
       "      <td>8058.00</td>\n",
       "      <td>1.05</td>\n",
       "      <td>295.97</td>\n",
       "      <td>2384965</td>\n",
       "    </tr>\n",
       "    <tr>\n",
       "      <th>일러스트</th>\n",
       "      <td>ㅍAOP 전체_중복키워드_디자인(삭제)</td>\n",
       "      <td>1137840</td>\n",
       "      <td>324.00</td>\n",
       "      <td>0.03</td>\n",
       "      <td>4841.66</td>\n",
       "      <td>1568699</td>\n",
       "    </tr>\n",
       "    <tr>\n",
       "      <th>-</th>\n",
       "      <td>올인원 패키지 : 데이터 분석 입문 온라인_파콘</td>\n",
       "      <td>694106</td>\n",
       "      <td>1863.60</td>\n",
       "      <td>0.27</td>\n",
       "      <td>630.59</td>\n",
       "      <td>1175174</td>\n",
       "    </tr>\n",
       "    <tr>\n",
       "      <th>HTML</th>\n",
       "      <td>3. html</td>\n",
       "      <td>9626374</td>\n",
       "      <td>813.60</td>\n",
       "      <td>0.01</td>\n",
       "      <td>1408.44</td>\n",
       "      <td>1145903</td>\n",
       "    </tr>\n",
       "  </tbody>\n",
       "</table>\n",
       "</div>"
      ],
      "text/plain": [
       "                            광고그룹      노출수     클릭수  클릭률(%)  평균클릭비용(VAT포함,원)  \\\n",
       "키워드                                                                          \n",
       "-      올인원 패키지 : 디자인 툴_파워컨텐츠_포토샵  2319456 9606.00    0.41           261.55   \n",
       "-            올인원 패키지 : 업무자동화_VBA   767491 8058.00    1.05           295.97   \n",
       "일러스트       ㅍAOP 전체_중복키워드_디자인(삭제)  1137840  324.00    0.03          4841.66   \n",
       "-     올인원 패키지 : 데이터 분석 입문 온라인_파콘   694106 1863.60    0.27           630.59   \n",
       "HTML                     3. html  9626374  813.60    0.01          1408.44   \n",
       "\n",
       "      총비용(VAT포함,원)  \n",
       "키워드                 \n",
       "-          2512444  \n",
       "-          2384965  \n",
       "일러스트       1568699  \n",
       "-          1175174  \n",
       "HTML       1145903  "
      ]
     },
     "execution_count": 302,
     "metadata": {},
     "output_type": "execute_result"
    }
   ],
   "source": [
    "df_index=df.set_index('키워드')\n",
    "df_index.head()"
   ]
  },
  {
   "cell_type": "code",
   "execution_count": 303,
   "metadata": {},
   "outputs": [
    {
     "data": {
      "text/plain": [
       "키워드\n",
       "-         2319456\n",
       "-          767491\n",
       "일러스트      1137840\n",
       "-          694106\n",
       "HTML      9626374\n",
       "           ...   \n",
       "부동산스터디     196862\n",
       "가상메모리       94933\n",
       "프로모션        82858\n",
       "앱스토어       126393\n",
       "OS          90041\n",
       "Name: 노출수, Length: 70, dtype: int64"
      ]
     },
     "execution_count": 303,
     "metadata": {},
     "output_type": "execute_result"
    }
   ],
   "source": [
    "#imp 변수 출력, 노출수 상위 5% 키워드 추출\n",
    "imp=df_index['노출수']\n",
    "imp=imp[imp>=imp.quantile(0.95)]\n",
    "imp"
   ]
  },
  {
   "cell_type": "code",
   "execution_count": 304,
   "metadata": {},
   "outputs": [
    {
     "data": {
      "text/plain": [
       "키워드\n",
       "-         9606.00\n",
       "-         8058.00\n",
       "일러스트       324.00\n",
       "-         1863.60\n",
       "HTML       813.60\n",
       "            ...  \n",
       "재태크        126.00\n",
       "모스자격증      198.00\n",
       "펀드하는법      248.40\n",
       "채권투자       135.60\n",
       "주식투자하는법    120.00\n",
       "Name: 클릭수, Length: 70, dtype: float64"
      ]
     },
     "execution_count": 304,
     "metadata": {},
     "output_type": "execute_result"
    }
   ],
   "source": [
    "#df_index에서 클릭수 상위 5% 키워드 추출\n",
    "clk=df_index['클릭수']\n",
    "clk=clk[clk>=clk.quantile(0.95)]\n",
    "clk"
   ]
  },
  {
   "cell_type": "code",
   "execution_count": 310,
   "metadata": {},
   "outputs": [
    {
     "data": {
      "text/plain": [
       "82858.0"
      ]
     },
     "execution_count": 310,
     "metadata": {},
     "output_type": "execute_result"
    }
   ],
   "source": [
    "df_index['노출수'].quantile(0.95)"
   ]
  },
  {
   "cell_type": "code",
   "execution_count": 311,
   "metadata": {},
   "outputs": [
    {
     "name": "stdout",
     "output_type": "stream",
     "text": [
      "(27, 6)\n"
     ]
    },
    {
     "data": {
      "text/html": [
       "<div>\n",
       "<style scoped>\n",
       "    .dataframe tbody tr th:only-of-type {\n",
       "        vertical-align: middle;\n",
       "    }\n",
       "\n",
       "    .dataframe tbody tr th {\n",
       "        vertical-align: top;\n",
       "    }\n",
       "\n",
       "    .dataframe thead th {\n",
       "        text-align: right;\n",
       "    }\n",
       "</style>\n",
       "<table border=\"1\" class=\"dataframe\">\n",
       "  <thead>\n",
       "    <tr style=\"text-align: right;\">\n",
       "      <th></th>\n",
       "      <th>광고그룹</th>\n",
       "      <th>노출수</th>\n",
       "      <th>클릭수</th>\n",
       "      <th>클릭률(%)</th>\n",
       "      <th>평균클릭비용(VAT포함,원)</th>\n",
       "      <th>총비용(VAT포함,원)</th>\n",
       "    </tr>\n",
       "    <tr>\n",
       "      <th>키워드</th>\n",
       "      <th></th>\n",
       "      <th></th>\n",
       "      <th></th>\n",
       "      <th></th>\n",
       "      <th></th>\n",
       "      <th></th>\n",
       "    </tr>\n",
       "  </thead>\n",
       "  <tbody>\n",
       "    <tr>\n",
       "      <th>-</th>\n",
       "      <td>올인원 패키지 : 디자인 툴_파워컨텐츠_포토샵</td>\n",
       "      <td>2319456</td>\n",
       "      <td>9606.00</td>\n",
       "      <td>0.41</td>\n",
       "      <td>261.55</td>\n",
       "      <td>2512444</td>\n",
       "    </tr>\n",
       "    <tr>\n",
       "      <th>-</th>\n",
       "      <td>올인원 패키지 : 업무자동화_VBA</td>\n",
       "      <td>767491</td>\n",
       "      <td>8058.00</td>\n",
       "      <td>1.05</td>\n",
       "      <td>295.97</td>\n",
       "      <td>2384965</td>\n",
       "    </tr>\n",
       "    <tr>\n",
       "      <th>일러스트</th>\n",
       "      <td>ㅍAOP 전체_중복키워드_디자인(삭제)</td>\n",
       "      <td>1137840</td>\n",
       "      <td>324.00</td>\n",
       "      <td>0.03</td>\n",
       "      <td>4841.66</td>\n",
       "      <td>1568699</td>\n",
       "    </tr>\n",
       "    <tr>\n",
       "      <th>-</th>\n",
       "      <td>올인원 패키지 : 데이터 분석 입문 온라인_파콘</td>\n",
       "      <td>694106</td>\n",
       "      <td>1863.60</td>\n",
       "      <td>0.27</td>\n",
       "      <td>630.59</td>\n",
       "      <td>1175174</td>\n",
       "    </tr>\n",
       "    <tr>\n",
       "      <th>HTML</th>\n",
       "      <td>3. html</td>\n",
       "      <td>9626374</td>\n",
       "      <td>813.60</td>\n",
       "      <td>0.01</td>\n",
       "      <td>1408.44</td>\n",
       "      <td>1145903</td>\n",
       "    </tr>\n",
       "    <tr>\n",
       "      <th>파이썬</th>\n",
       "      <td>6. 파이썬</td>\n",
       "      <td>384522</td>\n",
       "      <td>260.40</td>\n",
       "      <td>0.07</td>\n",
       "      <td>3705.36</td>\n",
       "      <td>964876</td>\n",
       "    </tr>\n",
       "    <tr>\n",
       "      <th>코딩</th>\n",
       "      <td>1. 코딩</td>\n",
       "      <td>562162</td>\n",
       "      <td>271.20</td>\n",
       "      <td>0.05</td>\n",
       "      <td>3243.22</td>\n",
       "      <td>879560</td>\n",
       "    </tr>\n",
       "    <tr>\n",
       "      <th>C언어</th>\n",
       "      <td>2. C언어 일반</td>\n",
       "      <td>271370</td>\n",
       "      <td>153.60</td>\n",
       "      <td>0.06</td>\n",
       "      <td>5269.26</td>\n",
       "      <td>809358</td>\n",
       "    </tr>\n",
       "    <tr>\n",
       "      <th>가상화폐</th>\n",
       "      <td>프로그래밍 전체_파워컨텐츠_블록체인(삭제)</td>\n",
       "      <td>91369</td>\n",
       "      <td>2838.00</td>\n",
       "      <td>3.11</td>\n",
       "      <td>283.22</td>\n",
       "      <td>803770</td>\n",
       "    </tr>\n",
       "    <tr>\n",
       "      <th>포토샵</th>\n",
       "      <td>AOP 전체_중복키워드_디자인</td>\n",
       "      <td>1887822</td>\n",
       "      <td>393.60</td>\n",
       "      <td>0.02</td>\n",
       "      <td>1913.74</td>\n",
       "      <td>753247</td>\n",
       "    </tr>\n",
       "    <tr>\n",
       "      <th>블록체인</th>\n",
       "      <td>블록체인 신사업 시작하기</td>\n",
       "      <td>200243</td>\n",
       "      <td>236.40</td>\n",
       "      <td>0.12</td>\n",
       "      <td>2721.99</td>\n",
       "      <td>643478</td>\n",
       "    </tr>\n",
       "    <tr>\n",
       "      <th>엑셀</th>\n",
       "      <td>AOP 전체_중복키워드_비지니스</td>\n",
       "      <td>1470452</td>\n",
       "      <td>450.00</td>\n",
       "      <td>0.03</td>\n",
       "      <td>1408.66</td>\n",
       "      <td>633897</td>\n",
       "    </tr>\n",
       "    <tr>\n",
       "      <th>-</th>\n",
       "      <td>올인원 패키지 : 데이터 분석 입문(파컨)</td>\n",
       "      <td>139717</td>\n",
       "      <td>618.00</td>\n",
       "      <td>0.44</td>\n",
       "      <td>636.45</td>\n",
       "      <td>393327</td>\n",
       "    </tr>\n",
       "    <tr>\n",
       "      <th>포토샵</th>\n",
       "      <td>올인원 패키지 : 디자인 툴_파워컨텐츠_포토샵</td>\n",
       "      <td>124068</td>\n",
       "      <td>2535.60</td>\n",
       "      <td>2.04</td>\n",
       "      <td>150.40</td>\n",
       "      <td>381359</td>\n",
       "    </tr>\n",
       "    <tr>\n",
       "      <th>컴퓨터활용능력</th>\n",
       "      <td>올인원 패키지 : 업무자동화_VBA</td>\n",
       "      <td>139729</td>\n",
       "      <td>1534.80</td>\n",
       "      <td>1.10</td>\n",
       "      <td>239.21</td>\n",
       "      <td>367147</td>\n",
       "    </tr>\n",
       "    <tr>\n",
       "      <th>컴퓨터활용능력2급</th>\n",
       "      <td>올인원 패키지 : 업무자동화_VBA</td>\n",
       "      <td>88751</td>\n",
       "      <td>1282.80</td>\n",
       "      <td>1.45</td>\n",
       "      <td>233.91</td>\n",
       "      <td>300058</td>\n",
       "    </tr>\n",
       "    <tr>\n",
       "      <th>컴퓨터활용능력1급</th>\n",
       "      <td>올인원 패키지 : 업무자동화_VBA</td>\n",
       "      <td>94757</td>\n",
       "      <td>1191.60</td>\n",
       "      <td>1.26</td>\n",
       "      <td>236.67</td>\n",
       "      <td>282018</td>\n",
       "    </tr>\n",
       "    <tr>\n",
       "      <th>포토샵</th>\n",
       "      <td>ㅍAOP 전체_중복키워드_디자인(삭제)</td>\n",
       "      <td>1021846</td>\n",
       "      <td>157.20</td>\n",
       "      <td>0.02</td>\n",
       "      <td>1625.16</td>\n",
       "      <td>255475</td>\n",
       "    </tr>\n",
       "    <tr>\n",
       "      <th>-</th>\n",
       "      <td>올인원 패키지 : 프로그래밍 첫걸음 시작하기</td>\n",
       "      <td>88800</td>\n",
       "      <td>598.80</td>\n",
       "      <td>0.67</td>\n",
       "      <td>351.79</td>\n",
       "      <td>210650</td>\n",
       "    </tr>\n",
       "    <tr>\n",
       "      <th>프리미어프로</th>\n",
       "      <td>AOP 전체_중복키워드_디자인</td>\n",
       "      <td>213033</td>\n",
       "      <td>132.00</td>\n",
       "      <td>0.06</td>\n",
       "      <td>1573.50</td>\n",
       "      <td>207702</td>\n",
       "    </tr>\n",
       "    <tr>\n",
       "      <th>폰트</th>\n",
       "      <td>타이포그래피와 편집디자인</td>\n",
       "      <td>478588</td>\n",
       "      <td>474.00</td>\n",
       "      <td>0.10</td>\n",
       "      <td>395.98</td>\n",
       "      <td>187693</td>\n",
       "    </tr>\n",
       "    <tr>\n",
       "      <th>스케치</th>\n",
       "      <td>AOP 전체_중복키워드_디자인</td>\n",
       "      <td>200487</td>\n",
       "      <td>133.20</td>\n",
       "      <td>0.07</td>\n",
       "      <td>1165.57</td>\n",
       "      <td>155254</td>\n",
       "    </tr>\n",
       "    <tr>\n",
       "      <th>포토샵</th>\n",
       "      <td>포토샵 유치원_일러스트레이터 유치원</td>\n",
       "      <td>691814</td>\n",
       "      <td>129.60</td>\n",
       "      <td>0.02</td>\n",
       "      <td>1051.54</td>\n",
       "      <td>136279</td>\n",
       "    </tr>\n",
       "    <tr>\n",
       "      <th>글씨체</th>\n",
       "      <td>타이포그래피와 편집디자인</td>\n",
       "      <td>106648</td>\n",
       "      <td>216.00</td>\n",
       "      <td>0.20</td>\n",
       "      <td>425.03</td>\n",
       "      <td>91806</td>\n",
       "    </tr>\n",
       "    <tr>\n",
       "      <th>한글폰트</th>\n",
       "      <td>타이포그래피와 편집디자인</td>\n",
       "      <td>82983</td>\n",
       "      <td>206.40</td>\n",
       "      <td>0.25</td>\n",
       "      <td>307.62</td>\n",
       "      <td>63492</td>\n",
       "    </tr>\n",
       "    <tr>\n",
       "      <th>마블</th>\n",
       "      <td>ㅍAOP 전체_중복키워드_디자인(삭제)</td>\n",
       "      <td>907619</td>\n",
       "      <td>228.00</td>\n",
       "      <td>0.03</td>\n",
       "      <td>265.50</td>\n",
       "      <td>60533</td>\n",
       "    </tr>\n",
       "    <tr>\n",
       "      <th>바이럴마케팅</th>\n",
       "      <td>마케팅 전체</td>\n",
       "      <td>3095998</td>\n",
       "      <td>261.60</td>\n",
       "      <td>0.01</td>\n",
       "      <td>220.04</td>\n",
       "      <td>57563</td>\n",
       "    </tr>\n",
       "  </tbody>\n",
       "</table>\n",
       "</div>"
      ],
      "text/plain": [
       "                                 광고그룹      노출수     클릭수  클릭률(%)  \\\n",
       "키워드                                                              \n",
       "-           올인원 패키지 : 디자인 툴_파워컨텐츠_포토샵  2319456 9606.00    0.41   \n",
       "-                 올인원 패키지 : 업무자동화_VBA   767491 8058.00    1.05   \n",
       "일러스트            ㅍAOP 전체_중복키워드_디자인(삭제)  1137840  324.00    0.03   \n",
       "-          올인원 패키지 : 데이터 분석 입문 온라인_파콘   694106 1863.60    0.27   \n",
       "HTML                          3. html  9626374  813.60    0.01   \n",
       "파이썬                            6. 파이썬   384522  260.40    0.07   \n",
       "코딩                              1. 코딩   562162  271.20    0.05   \n",
       "C언어                         2. C언어 일반   271370  153.60    0.06   \n",
       "가상화폐          프로그래밍 전체_파워컨텐츠_블록체인(삭제)    91369 2838.00    3.11   \n",
       "포토샵                  AOP 전체_중복키워드_디자인  1887822  393.60    0.02   \n",
       "블록체인                    블록체인 신사업 시작하기   200243  236.40    0.12   \n",
       "엑셀                  AOP 전체_중복키워드_비지니스  1470452  450.00    0.03   \n",
       "-             올인원 패키지 : 데이터 분석 입문(파컨)   139717  618.00    0.44   \n",
       "포토샵         올인원 패키지 : 디자인 툴_파워컨텐츠_포토샵   124068 2535.60    2.04   \n",
       "컴퓨터활용능력           올인원 패키지 : 업무자동화_VBA   139729 1534.80    1.10   \n",
       "컴퓨터활용능력2급         올인원 패키지 : 업무자동화_VBA    88751 1282.80    1.45   \n",
       "컴퓨터활용능력1급         올인원 패키지 : 업무자동화_VBA    94757 1191.60    1.26   \n",
       "포토샵             ㅍAOP 전체_중복키워드_디자인(삭제)  1021846  157.20    0.02   \n",
       "-            올인원 패키지 : 프로그래밍 첫걸음 시작하기    88800  598.80    0.67   \n",
       "프리미어프로               AOP 전체_중복키워드_디자인   213033  132.00    0.06   \n",
       "폰트                      타이포그래피와 편집디자인   478588  474.00    0.10   \n",
       "스케치                  AOP 전체_중복키워드_디자인   200487  133.20    0.07   \n",
       "포토샵               포토샵 유치원_일러스트레이터 유치원   691814  129.60    0.02   \n",
       "글씨체                     타이포그래피와 편집디자인   106648  216.00    0.20   \n",
       "한글폰트                    타이포그래피와 편집디자인    82983  206.40    0.25   \n",
       "마블              ㅍAOP 전체_중복키워드_디자인(삭제)   907619  228.00    0.03   \n",
       "바이럴마케팅                         마케팅 전체  3095998  261.60    0.01   \n",
       "\n",
       "           평균클릭비용(VAT포함,원)  총비용(VAT포함,원)  \n",
       "키워드                                       \n",
       "-                   261.55       2512444  \n",
       "-                   295.97       2384965  \n",
       "일러스트               4841.66       1568699  \n",
       "-                   630.59       1175174  \n",
       "HTML               1408.44       1145903  \n",
       "파이썬                3705.36        964876  \n",
       "코딩                 3243.22        879560  \n",
       "C언어                5269.26        809358  \n",
       "가상화폐                283.22        803770  \n",
       "포토샵                1913.74        753247  \n",
       "블록체인               2721.99        643478  \n",
       "엑셀                 1408.66        633897  \n",
       "-                   636.45        393327  \n",
       "포토샵                 150.40        381359  \n",
       "컴퓨터활용능력             239.21        367147  \n",
       "컴퓨터활용능력2급           233.91        300058  \n",
       "컴퓨터활용능력1급           236.67        282018  \n",
       "포토샵                1625.16        255475  \n",
       "-                   351.79        210650  \n",
       "프리미어프로             1573.50        207702  \n",
       "폰트                  395.98        187693  \n",
       "스케치                1165.57        155254  \n",
       "포토샵                1051.54        136279  \n",
       "글씨체                 425.03         91806  \n",
       "한글폰트                307.62         63492  \n",
       "마블                  265.50         60533  \n",
       "바이럴마케팅              220.04         57563  "
      ]
     },
     "execution_count": 311,
     "metadata": {},
     "output_type": "execute_result"
    }
   ],
   "source": [
    "result = df_index[(df_index['노출수']>=df_index['노출수'].quantile(0.95))&(df_index['클릭수']>=df_index['클릭수'].quantile(0.95))]\n",
    "print(result.shape)\n",
    "result"
   ]
  },
  {
   "cell_type": "markdown",
   "metadata": {},
   "source": [
    "#### 아래를 통해 같은 결과를 얻을 수 있다"
   ]
  },
  {
   "cell_type": "code",
   "execution_count": 312,
   "metadata": {},
   "outputs": [],
   "source": [
    "imp=df_index['노출수']\n",
    "clk=df_index['클릭수']"
   ]
  },
  {
   "cell_type": "code",
   "execution_count": 313,
   "metadata": {},
   "outputs": [],
   "source": [
    "result=df_index[(imp>=imp.quantile(0.95))&(clk>=clk.quantile(0.95))]"
   ]
  },
  {
   "cell_type": "code",
   "execution_count": 315,
   "metadata": {},
   "outputs": [
    {
     "name": "stdout",
     "output_type": "stream",
     "text": [
      "고효율 키워드 : \n",
      " Index(['-', '-', '일러스트', '-', 'HTML', '파이썬', '코딩', 'C언어', '가상화폐', '포토샵',\n",
      "       '블록체인', '엑셀', '-', '포토샵', '컴퓨터활용능력', '컴퓨터활용능력2급', '컴퓨터활용능력1급', '포토샵',\n",
      "       '-', '프리미어프로', '폰트', '스케치', '포토샵', '글씨체', '한글폰트', '마블', '바이럴마케팅'],\n",
      "      dtype='object', name='키워드')\n"
     ]
    }
   ],
   "source": [
    "print('고효율 키워드 : \\n', result.index)"
   ]
  },
  {
   "cell_type": "code",
   "execution_count": null,
   "metadata": {},
   "outputs": [],
   "source": []
  },
  {
   "cell_type": "markdown",
   "metadata": {},
   "source": [
    "### 4-2. 저효율키워드 선별 : 광고 비용 대비 노출/클릭 효율이 저조한 키워드를 판별"
   ]
  },
  {
   "cell_type": "markdown",
   "metadata": {},
   "source": [
    "- 노출수, 클릭수  기준 상위 5%의 키워드가 아닌데도 불구하고 비용이 많이 쓰이고 있는 키워드\n",
    " 1. 노출수 95백분위수 미만\n",
    " 2. 클릭수 95백분위수 미만\n",
    " 3. 총비용 85백분위수 이상\n",
    " 4. 총비용 95백분위수 미만"
   ]
  },
  {
   "cell_type": "code",
   "execution_count": 84,
   "metadata": {},
   "outputs": [
    {
     "data": {
      "image/png": "[encoded data removed]",
      "text/plain": [
       "<Figure size 432x288 with 1 Axes>"
      ]
     },
     "metadata": {
      "needs_background": "light"
     },
     "output_type": "display_data"
    }
   ],
   "source": [
    "#노출수 선그래프\n",
    "imp_sort.plot()\n",
    "plt.show()"
   ]
  },
  {
   "cell_type": "code",
   "execution_count": 85,
   "metadata": {},
   "outputs": [
    {
     "data": {
      "image/png": "[encoded data removed]",
      "text/plain": [
       "<Figure size 432x288 with 1 Axes>"
      ]
     },
     "metadata": {
      "needs_background": "light"
     },
     "output_type": "display_data"
    }
   ],
   "source": [
    "#클릭수 선그래프\n",
    "(((df['클릭수'].sort_values()).reset_index()).drop('index',axis=1)).plot()\n",
    "plt.show()"
   ]
  },
  {
   "cell_type": "code",
   "execution_count": 86,
   "metadata": {},
   "outputs": [
    {
     "data": {
      "image/png": "[encoded data removed]",
      "text/plain": [
       "<Figure size 432x288 with 1 Axes>"
      ]
     },
     "metadata": {
      "needs_background": "light"
     },
     "output_type": "display_data"
    }
   ],
   "source": [
    "#총비용 선그래프\n",
    "(((df['총비용(VAT포함,원)'].sort_values()).reset_index()).drop('index',axis=1)).plot()\n",
    "plt.show()"
   ]
  },
  {
   "cell_type": "code",
   "execution_count": null,
   "metadata": {},
   "outputs": [],
   "source": []
  },
  {
   "cell_type": "code",
   "execution_count": 87,
   "metadata": {},
   "outputs": [],
   "source": [
    "cost=df_index['총비용(VAT포함,원)']"
   ]
  },
  {
   "cell_type": "code",
   "execution_count": 293,
   "metadata": {},
   "outputs": [
    {
     "data": {
      "text/plain": [
       "(97, 6)"
      ]
     },
     "execution_count": 293,
     "metadata": {},
     "output_type": "execute_result"
    }
   ],
   "source": [
    "# 노출수 95백분위수 미만\n",
    "# 클릭수 95백분위수 미만\n",
    "# 총비용 85백분위수 이상\n",
    "# 총비용 95백분위수 미만\n",
    "\n",
    "result=df_index[(imp<imp.quantile(0.95))&(clk<clk.quantile(0.95))&(cost>=cost.quantile(0.85))&(cost<cost.quantile(0.95))]\n",
    "result.shape"
   ]
  },
  {
   "cell_type": "code",
   "execution_count": null,
   "metadata": {},
   "outputs": [],
   "source": [
    "# 위와 같음. 표현식이 다를뿐\n",
    "result = df_index[(df_index['노출수']<df_index['노출수'].quantile(0.95))&(df_index['클릭수']<df_index['클릭수'].quantile(0.95))\n",
    "        &(df_index['총비용(VAT포함,원)']>=df_index['총비용(VAT포함,원)'].quantile(0.85))\n",
    "        &(df_index['총비용(VAT포함,원)']<df_index['총비용(VAT포함,원)'].quantile(0.95))]\n",
    "result.shape"
   ]
  },
  {
   "cell_type": "code",
   "execution_count": 297,
   "metadata": {},
   "outputs": [
    {
     "name": "stdout",
     "output_type": "stream",
     "text": [
      "저효율 키워드 : \n",
      " Index(['온라인마케팅교육', '온라인마케팅', '어플제작비용', '부동산경매', '퍼포먼스마케팅', '블록체인', 'C++',\n",
      "       '게임만드는프로그램', '엑셀배우기', '앱만들기', '영상제작', '쇼핑몰제작', '에프터이펙트', '어플리케이션제작',\n",
      "       '강남빌딩매매', '웹디자인', '디지털마케팅', '포토샵강의', '구글애널리틱스자격증', 'PYTHON', '페이스북광고',\n",
      "       '유튜브마케팅', '게임제작', '부동산투자', '마케팅전략', 'PYTHON', '홈페이지만들기', 'B2B사이트',\n",
      "       'JAVASCRIPT', '파이썬강좌', '인스타그램광고', '동영상제작', 'SEO', '쇼핑몰창업', '인터넷쇼핑몰',\n",
      "       '게임프로그래밍학원', '프로그래밍', '서울빌딩매매', '데이터사이언스', '모바일게임제작', '엑셀학원',\n",
      "       '유튜브크리에이터', '엑셀VBA', '영상편집학원', '텐서플로우', '쇼핑몰홈페이지제작', '엑셀교육', '그로스해킹',\n",
      "       '게임개발', '광고대행사', '통계학원', '모바일앱개발', '안드로이드앱만들기', '파이썬기초', '하이브리드앱',\n",
      "       '온라인마케팅', '인디자인', '검색엔진최적화', '엑셀실무', '인터넷쇼핑몰제작', '상가빌딩매매', '퍼포먼스마케팅',\n",
      "       '쇼핑몰', 'UX디자인', '유니티강좌', 'VBA', '코딩이란', 'SNS마케팅', 'GA자격증', '콘텐츠제작',\n",
      "       '구글애널리틱스', 'UI디자인', '1인미디어', '포토샵자격증', '하이브리드앱', '포토샵자격증', '브랜드네이밍',\n",
      "       '리플렛디자인', '데이터사이언티스트', '유니티3D', '자바스크립트', '일러스트레이터강좌', '데이터분석준전문가',\n",
      "       '유튜브편집', '모션그래픽', '리플렛디자인', 'SPRING', '어도비일러스트레이터', 'SNS광고', '쇼핑몰촬영',\n",
      "       '브랜드마케팅', '데이터분석', 'PHP', 'UXUI', 'SQL', 'UI디자인', '웹크롤링'],\n",
      "      dtype='object', name='키워드')\n"
     ]
    }
   ],
   "source": [
    "print('저효율 키워드 : \\n', result.index)"
   ]
  },
  {
   "cell_type": "code",
   "execution_count": null,
   "metadata": {},
   "outputs": [],
   "source": []
  },
  {
   "cell_type": "markdown",
   "metadata": {},
   "source": [
    "---------------------------------"
   ]
  },
  {
   "cell_type": "markdown",
   "metadata": {},
   "source": [
    "# 5. 중점관리그룹추출"
   ]
  },
  {
   "cell_type": "code",
   "execution_count": 298,
   "metadata": {},
   "outputs": [],
   "source": [
    "group=df.groupby('광고그룹')"
   ]
  },
  {
   "cell_type": "code",
   "execution_count": 98,
   "metadata": {},
   "outputs": [
    {
     "data": {
      "text/html": [
       "<div>\n",
       "<style scoped>\n",
       "    .dataframe tbody tr th:only-of-type {\n",
       "        vertical-align: middle;\n",
       "    }\n",
       "\n",
       "    .dataframe tbody tr th {\n",
       "        vertical-align: top;\n",
       "    }\n",
       "\n",
       "    .dataframe thead th {\n",
       "        text-align: right;\n",
       "    }\n",
       "</style>\n",
       "<table border=\"1\" class=\"dataframe\">\n",
       "  <thead>\n",
       "    <tr style=\"text-align: right;\">\n",
       "      <th></th>\n",
       "      <th>키워드</th>\n",
       "      <th>노출수</th>\n",
       "      <th>클릭수</th>\n",
       "      <th>클릭률(%)</th>\n",
       "      <th>평균클릭비용(VAT포함,원)</th>\n",
       "      <th>총비용(VAT포함,원)</th>\n",
       "    </tr>\n",
       "    <tr>\n",
       "      <th>광고그룹</th>\n",
       "      <th></th>\n",
       "      <th></th>\n",
       "      <th></th>\n",
       "      <th></th>\n",
       "      <th></th>\n",
       "      <th></th>\n",
       "    </tr>\n",
       "  </thead>\n",
       "  <tbody>\n",
       "    <tr>\n",
       "      <th>#000_마케팅 전체_main</th>\n",
       "      <td>48</td>\n",
       "      <td>48</td>\n",
       "      <td>48</td>\n",
       "      <td>48</td>\n",
       "      <td>48</td>\n",
       "      <td>48</td>\n",
       "    </tr>\n",
       "    <tr>\n",
       "      <th>001.BASIC DESIGN</th>\n",
       "      <td>9</td>\n",
       "      <td>9</td>\n",
       "      <td>9</td>\n",
       "      <td>9</td>\n",
       "      <td>9</td>\n",
       "      <td>9</td>\n",
       "    </tr>\n",
       "    <tr>\n",
       "      <th>001.데이터분석/ 통계</th>\n",
       "      <td>10</td>\n",
       "      <td>10</td>\n",
       "      <td>10</td>\n",
       "      <td>10</td>\n",
       "      <td>10</td>\n",
       "      <td>10</td>\n",
       "    </tr>\n",
       "    <tr>\n",
       "      <th>002.R</th>\n",
       "      <td>9</td>\n",
       "      <td>9</td>\n",
       "      <td>9</td>\n",
       "      <td>9</td>\n",
       "      <td>9</td>\n",
       "      <td>9</td>\n",
       "    </tr>\n",
       "    <tr>\n",
       "      <th>002.UX/UI</th>\n",
       "      <td>5</td>\n",
       "      <td>5</td>\n",
       "      <td>5</td>\n",
       "      <td>5</td>\n",
       "      <td>5</td>\n",
       "      <td>5</td>\n",
       "    </tr>\n",
       "    <tr>\n",
       "      <th>...</th>\n",
       "      <td>...</td>\n",
       "      <td>...</td>\n",
       "      <td>...</td>\n",
       "      <td>...</td>\n",
       "      <td>...</td>\n",
       "      <td>...</td>\n",
       "    </tr>\n",
       "    <tr>\n",
       "      <th>포토샵 유치원_일러스트레이터 유치원</th>\n",
       "      <td>13</td>\n",
       "      <td>13</td>\n",
       "      <td>13</td>\n",
       "      <td>13</td>\n",
       "      <td>13</td>\n",
       "      <td>13</td>\n",
       "    </tr>\n",
       "    <tr>\n",
       "      <th>프로그래밍 유치원</th>\n",
       "      <td>8</td>\n",
       "      <td>8</td>\n",
       "      <td>8</td>\n",
       "      <td>8</td>\n",
       "      <td>8</td>\n",
       "      <td>8</td>\n",
       "    </tr>\n",
       "    <tr>\n",
       "      <th>프로그래밍 전체</th>\n",
       "      <td>12</td>\n",
       "      <td>12</td>\n",
       "      <td>12</td>\n",
       "      <td>12</td>\n",
       "      <td>12</td>\n",
       "      <td>12</td>\n",
       "    </tr>\n",
       "    <tr>\n",
       "      <th>프로그래밍 전체_파워컨텐츠_블록체인(삭제)</th>\n",
       "      <td>3</td>\n",
       "      <td>3</td>\n",
       "      <td>3</td>\n",
       "      <td>3</td>\n",
       "      <td>3</td>\n",
       "      <td>3</td>\n",
       "    </tr>\n",
       "    <tr>\n",
       "      <th>프론트엔드 개발 스쿨 12기_기존 키워드</th>\n",
       "      <td>1</td>\n",
       "      <td>1</td>\n",
       "      <td>1</td>\n",
       "      <td>1</td>\n",
       "      <td>1</td>\n",
       "      <td>1</td>\n",
       "    </tr>\n",
       "  </tbody>\n",
       "</table>\n",
       "<p>186 rows × 6 columns</p>\n",
       "</div>"
      ],
      "text/plain": [
       "                         키워드  노출수  클릭수  클릭률(%)  평균클릭비용(VAT포함,원)  총비용(VAT포함,원)\n",
       "광고그룹                                                                         \n",
       "#000_마케팅 전체_main          48   48   48      48               48            48\n",
       "001.BASIC DESIGN           9    9    9       9                9             9\n",
       "001.데이터분석/ 통계             10   10   10      10               10            10\n",
       "002.R                      9    9    9       9                9             9\n",
       "002.UX/UI                  5    5    5       5                5             5\n",
       "...                      ...  ...  ...     ...              ...           ...\n",
       "포토샵 유치원_일러스트레이터 유치원       13   13   13      13               13            13\n",
       "프로그래밍 유치원                  8    8    8       8                8             8\n",
       "프로그래밍 전체                  12   12   12      12               12            12\n",
       "프로그래밍 전체_파워컨텐츠_블록체인(삭제)    3    3    3       3                3             3\n",
       "프론트엔드 개발 스쿨 12기_기존 키워드     1    1    1       1                1             1\n",
       "\n",
       "[186 rows x 6 columns]"
      ]
     },
     "execution_count": 98,
     "metadata": {},
     "output_type": "execute_result"
    }
   ],
   "source": [
    "#count - 각 광고그룹 데이터의 개수 세기\n",
    "group.count()"
   ]
  },
  {
   "cell_type": "code",
   "execution_count": 299,
   "metadata": {},
   "outputs": [
    {
     "data": {
      "text/html": [
       "<div>\n",
       "<style scoped>\n",
       "    .dataframe tbody tr th:only-of-type {\n",
       "        vertical-align: middle;\n",
       "    }\n",
       "\n",
       "    .dataframe tbody tr th {\n",
       "        vertical-align: top;\n",
       "    }\n",
       "\n",
       "    .dataframe thead th {\n",
       "        text-align: right;\n",
       "    }\n",
       "</style>\n",
       "<table border=\"1\" class=\"dataframe\">\n",
       "  <thead>\n",
       "    <tr style=\"text-align: right;\">\n",
       "      <th></th>\n",
       "      <th>노출수</th>\n",
       "      <th>클릭수</th>\n",
       "      <th>클릭률(%)</th>\n",
       "      <th>평균클릭비용(VAT포함,원)</th>\n",
       "      <th>총비용(VAT포함,원)</th>\n",
       "    </tr>\n",
       "    <tr>\n",
       "      <th>광고그룹</th>\n",
       "      <th></th>\n",
       "      <th></th>\n",
       "      <th></th>\n",
       "      <th></th>\n",
       "      <th></th>\n",
       "    </tr>\n",
       "  </thead>\n",
       "  <tbody>\n",
       "    <tr>\n",
       "      <th>#000_마케팅 전체_main</th>\n",
       "      <td>14780.15</td>\n",
       "      <td>8.40</td>\n",
       "      <td>0.18</td>\n",
       "      <td>625.09</td>\n",
       "      <td>7243.96</td>\n",
       "    </tr>\n",
       "    <tr>\n",
       "      <th>001.BASIC DESIGN</th>\n",
       "      <td>5738.56</td>\n",
       "      <td>6.80</td>\n",
       "      <td>0.23</td>\n",
       "      <td>298.69</td>\n",
       "      <td>2427.33</td>\n",
       "    </tr>\n",
       "    <tr>\n",
       "      <th>001.데이터분석/ 통계</th>\n",
       "      <td>3715.00</td>\n",
       "      <td>20.28</td>\n",
       "      <td>0.89</td>\n",
       "      <td>1021.47</td>\n",
       "      <td>19575.60</td>\n",
       "    </tr>\n",
       "    <tr>\n",
       "      <th>002.R</th>\n",
       "      <td>13413.78</td>\n",
       "      <td>8.53</td>\n",
       "      <td>0.11</td>\n",
       "      <td>360.04</td>\n",
       "      <td>4796.00</td>\n",
       "    </tr>\n",
       "    <tr>\n",
       "      <th>002.UX/UI</th>\n",
       "      <td>3090.80</td>\n",
       "      <td>4.08</td>\n",
       "      <td>0.09</td>\n",
       "      <td>69.93</td>\n",
       "      <td>550.00</td>\n",
       "    </tr>\n",
       "  </tbody>\n",
       "</table>\n",
       "</div>"
      ],
      "text/plain": [
       "                      노출수   클릭수  클릭률(%)  평균클릭비용(VAT포함,원)  총비용(VAT포함,원)\n",
       "광고그룹                                                                  \n",
       "#000_마케팅 전체_main 14780.15  8.40    0.18           625.09       7243.96\n",
       "001.BASIC DESIGN  5738.56  6.80    0.23           298.69       2427.33\n",
       "001.데이터분석/ 통계     3715.00 20.28    0.89          1021.47      19575.60\n",
       "002.R            13413.78  8.53    0.11           360.04       4796.00\n",
       "002.UX/UI         3090.80  4.08    0.09            69.93        550.00"
      ]
     },
     "execution_count": 299,
     "metadata": {},
     "output_type": "execute_result"
    }
   ],
   "source": [
    "#mean -각 광고그룹 데이터의 평균\n",
    "group.mean().head()"
   ]
  },
  {
   "cell_type": "code",
   "execution_count": 300,
   "metadata": {},
   "outputs": [
    {
     "data": {
      "text/html": [
       "<div>\n",
       "<style scoped>\n",
       "    .dataframe tbody tr th:only-of-type {\n",
       "        vertical-align: middle;\n",
       "    }\n",
       "\n",
       "    .dataframe tbody tr th {\n",
       "        vertical-align: top;\n",
       "    }\n",
       "\n",
       "    .dataframe thead th {\n",
       "        text-align: right;\n",
       "    }\n",
       "</style>\n",
       "<table border=\"1\" class=\"dataframe\">\n",
       "  <thead>\n",
       "    <tr style=\"text-align: right;\">\n",
       "      <th></th>\n",
       "      <th>노출수</th>\n",
       "      <th>클릭수</th>\n",
       "      <th>클릭률(%)</th>\n",
       "      <th>평균클릭비용(VAT포함,원)</th>\n",
       "      <th>총비용(VAT포함,원)</th>\n",
       "    </tr>\n",
       "    <tr>\n",
       "      <th>광고그룹</th>\n",
       "      <th></th>\n",
       "      <th></th>\n",
       "      <th></th>\n",
       "      <th></th>\n",
       "      <th></th>\n",
       "    </tr>\n",
       "  </thead>\n",
       "  <tbody>\n",
       "    <tr>\n",
       "      <th>#000_마케팅 전체_main</th>\n",
       "      <td>2765.00</td>\n",
       "      <td>3.60</td>\n",
       "      <td>0.06</td>\n",
       "      <td>765.97</td>\n",
       "      <td>2458.50</td>\n",
       "    </tr>\n",
       "    <tr>\n",
       "      <th>001.BASIC DESIGN</th>\n",
       "      <td>5524.00</td>\n",
       "      <td>2.40</td>\n",
       "      <td>0.04</td>\n",
       "      <td>357.50</td>\n",
       "      <td>1023.00</td>\n",
       "    </tr>\n",
       "    <tr>\n",
       "      <th>001.데이터분석/ 통계</th>\n",
       "      <td>1813.00</td>\n",
       "      <td>13.80</td>\n",
       "      <td>0.57</td>\n",
       "      <td>1096.80</td>\n",
       "      <td>13464.00</td>\n",
       "    </tr>\n",
       "    <tr>\n",
       "      <th>002.R</th>\n",
       "      <td>5184.00</td>\n",
       "      <td>3.60</td>\n",
       "      <td>0.03</td>\n",
       "      <td>119.17</td>\n",
       "      <td>1287.00</td>\n",
       "    </tr>\n",
       "    <tr>\n",
       "      <th>002.UX/UI</th>\n",
       "      <td>2649.00</td>\n",
       "      <td>1.20</td>\n",
       "      <td>0.09</td>\n",
       "      <td>73.33</td>\n",
       "      <td>88.00</td>\n",
       "    </tr>\n",
       "  </tbody>\n",
       "</table>\n",
       "</div>"
      ],
      "text/plain": [
       "                     노출수   클릭수  클릭률(%)  평균클릭비용(VAT포함,원)  총비용(VAT포함,원)\n",
       "광고그룹                                                                 \n",
       "#000_마케팅 전체_main 2765.00  3.60    0.06           765.97       2458.50\n",
       "001.BASIC DESIGN 5524.00  2.40    0.04           357.50       1023.00\n",
       "001.데이터분석/ 통계    1813.00 13.80    0.57          1096.80      13464.00\n",
       "002.R            5184.00  3.60    0.03           119.17       1287.00\n",
       "002.UX/UI        2649.00  1.20    0.09            73.33         88.00"
      ]
     },
     "execution_count": 300,
     "metadata": {},
     "output_type": "execute_result"
    }
   ],
   "source": [
    "#median - 데이터의 중앙값\n",
    "group.median().head()"
   ]
  },
  {
   "cell_type": "markdown",
   "metadata": {},
   "source": [
    "### 그 외 (본 분석에서 필요하지 않아 미적용)"
   ]
  },
  {
   "cell_type": "markdown",
   "metadata": {},
   "source": [
    "- grouped.std() → 데이터의 표준편차\n",
    "- grouped.var() → 데이터의 분산"
   ]
  },
  {
   "cell_type": "code",
   "execution_count": null,
   "metadata": {},
   "outputs": [],
   "source": []
  },
  {
   "cell_type": "markdown",
   "metadata": {},
   "source": [
    "### ▼ 광고 그룹 전처리"
   ]
  },
  {
   "cell_type": "code",
   "execution_count": 316,
   "metadata": {},
   "outputs": [
    {
     "data": {
      "text/html": [
       "<div>\n",
       "<style scoped>\n",
       "    .dataframe tbody tr th:only-of-type {\n",
       "        vertical-align: middle;\n",
       "    }\n",
       "\n",
       "    .dataframe tbody tr th {\n",
       "        vertical-align: top;\n",
       "    }\n",
       "\n",
       "    .dataframe thead th {\n",
       "        text-align: right;\n",
       "    }\n",
       "</style>\n",
       "<table border=\"1\" class=\"dataframe\">\n",
       "  <thead>\n",
       "    <tr style=\"text-align: right;\">\n",
       "      <th></th>\n",
       "      <th>노출수</th>\n",
       "      <th>클릭수</th>\n",
       "      <th>클릭률(%)</th>\n",
       "      <th>평균클릭비용(VAT포함,원)</th>\n",
       "      <th>총비용(VAT포함,원)</th>\n",
       "    </tr>\n",
       "    <tr>\n",
       "      <th>광고그룹</th>\n",
       "      <th></th>\n",
       "      <th></th>\n",
       "      <th></th>\n",
       "      <th></th>\n",
       "      <th></th>\n",
       "    </tr>\n",
       "  </thead>\n",
       "  <tbody>\n",
       "    <tr>\n",
       "      <th>#000_마케팅 전체_main</th>\n",
       "      <td>709447</td>\n",
       "      <td>403.20</td>\n",
       "      <td>8.83</td>\n",
       "      <td>30004.14</td>\n",
       "      <td>347710</td>\n",
       "    </tr>\n",
       "    <tr>\n",
       "      <th>001.BASIC DESIGN</th>\n",
       "      <td>51647</td>\n",
       "      <td>61.20</td>\n",
       "      <td>2.10</td>\n",
       "      <td>2688.24</td>\n",
       "      <td>21846</td>\n",
       "    </tr>\n",
       "    <tr>\n",
       "      <th>001.데이터분석/ 통계</th>\n",
       "      <td>37150</td>\n",
       "      <td>202.80</td>\n",
       "      <td>8.91</td>\n",
       "      <td>10214.73</td>\n",
       "      <td>195756</td>\n",
       "    </tr>\n",
       "    <tr>\n",
       "      <th>002.R</th>\n",
       "      <td>120724</td>\n",
       "      <td>76.80</td>\n",
       "      <td>1.00</td>\n",
       "      <td>3240.35</td>\n",
       "      <td>43164</td>\n",
       "    </tr>\n",
       "    <tr>\n",
       "      <th>002.UX/UI</th>\n",
       "      <td>15454</td>\n",
       "      <td>20.40</td>\n",
       "      <td>0.45</td>\n",
       "      <td>349.64</td>\n",
       "      <td>2750</td>\n",
       "    </tr>\n",
       "    <tr>\n",
       "      <th>...</th>\n",
       "      <td>...</td>\n",
       "      <td>...</td>\n",
       "      <td>...</td>\n",
       "      <td>...</td>\n",
       "      <td>...</td>\n",
       "    </tr>\n",
       "    <tr>\n",
       "      <th>포토샵 유치원_일러스트레이터 유치원</th>\n",
       "      <td>937205</td>\n",
       "      <td>217.20</td>\n",
       "      <td>0.66</td>\n",
       "      <td>8428.26</td>\n",
       "      <td>205161</td>\n",
       "    </tr>\n",
       "    <tr>\n",
       "      <th>프로그래밍 유치원</th>\n",
       "      <td>47373</td>\n",
       "      <td>62.40</td>\n",
       "      <td>1.80</td>\n",
       "      <td>16258.61</td>\n",
       "      <td>188936</td>\n",
       "    </tr>\n",
       "    <tr>\n",
       "      <th>프로그래밍 전체</th>\n",
       "      <td>1084500</td>\n",
       "      <td>110.40</td>\n",
       "      <td>0.29</td>\n",
       "      <td>1486.58</td>\n",
       "      <td>19514</td>\n",
       "    </tr>\n",
       "    <tr>\n",
       "      <th>프로그래밍 전체_파워컨텐츠_블록체인(삭제)</th>\n",
       "      <td>196060</td>\n",
       "      <td>7033.20</td>\n",
       "      <td>10.93</td>\n",
       "      <td>578.32</td>\n",
       "      <td>1293479</td>\n",
       "    </tr>\n",
       "    <tr>\n",
       "      <th>프론트엔드 개발 스쿨 12기_기존 키워드</th>\n",
       "      <td>2015</td>\n",
       "      <td>2.40</td>\n",
       "      <td>0.12</td>\n",
       "      <td>64.17</td>\n",
       "      <td>154</td>\n",
       "    </tr>\n",
       "  </tbody>\n",
       "</table>\n",
       "<p>186 rows × 5 columns</p>\n",
       "</div>"
      ],
      "text/plain": [
       "                             노출수     클릭수  클릭률(%)  평균클릭비용(VAT포함,원)  \\\n",
       "광고그룹                                                                \n",
       "#000_마케팅 전체_main          709447  403.20    8.83         30004.14   \n",
       "001.BASIC DESIGN           51647   61.20    2.10          2688.24   \n",
       "001.데이터분석/ 통계              37150  202.80    8.91         10214.73   \n",
       "002.R                     120724   76.80    1.00          3240.35   \n",
       "002.UX/UI                  15454   20.40    0.45           349.64   \n",
       "...                          ...     ...     ...              ...   \n",
       "포토샵 유치원_일러스트레이터 유치원       937205  217.20    0.66          8428.26   \n",
       "프로그래밍 유치원                  47373   62.40    1.80         16258.61   \n",
       "프로그래밍 전체                 1084500  110.40    0.29          1486.58   \n",
       "프로그래밍 전체_파워컨텐츠_블록체인(삭제)   196060 7033.20   10.93           578.32   \n",
       "프론트엔드 개발 스쿨 12기_기존 키워드      2015    2.40    0.12            64.17   \n",
       "\n",
       "                         총비용(VAT포함,원)  \n",
       "광고그룹                                   \n",
       "#000_마케팅 전체_main               347710  \n",
       "001.BASIC DESIGN                21846  \n",
       "001.데이터분석/ 통계                  195756  \n",
       "002.R                           43164  \n",
       "002.UX/UI                        2750  \n",
       "...                               ...  \n",
       "포토샵 유치원_일러스트레이터 유치원            205161  \n",
       "프로그래밍 유치원                      188936  \n",
       "프로그래밍 전체                        19514  \n",
       "프로그래밍 전체_파워컨텐츠_블록체인(삭제)       1293479  \n",
       "프론트엔드 개발 스쿨 12기_기존 키워드            154  \n",
       "\n",
       "[186 rows x 5 columns]"
      ]
     },
     "execution_count": 316,
     "metadata": {},
     "output_type": "execute_result"
    }
   ],
   "source": [
    "#그룹데이터의 합계(sum) - 노출수,클릭수,총비용 칼럼\n",
    "df_group=group.sum()\n",
    "df_group"
   ]
  },
  {
   "cell_type": "code",
   "execution_count": 317,
   "metadata": {},
   "outputs": [],
   "source": [
    "#클릭률(ctr) = 클릭수 / 노출수\n",
    "df_group['클릭률(%)']=df_group['클릭수']/df_group['노출수']\n",
    "\n",
    "#평균클릭비용(cpc) = 총비용 / 클릭수\n",
    "df_group['평균클릭비용(VAT포함,원)']=df_group['총비용(VAT포함,원)']/df_group['클릭수']"
   ]
  },
  {
   "cell_type": "code",
   "execution_count": 318,
   "metadata": {},
   "outputs": [
    {
     "data": {
      "text/html": [
       "<div>\n",
       "<style scoped>\n",
       "    .dataframe tbody tr th:only-of-type {\n",
       "        vertical-align: middle;\n",
       "    }\n",
       "\n",
       "    .dataframe tbody tr th {\n",
       "        vertical-align: top;\n",
       "    }\n",
       "\n",
       "    .dataframe thead th {\n",
       "        text-align: right;\n",
       "    }\n",
       "</style>\n",
       "<table border=\"1\" class=\"dataframe\">\n",
       "  <thead>\n",
       "    <tr style=\"text-align: right;\">\n",
       "      <th></th>\n",
       "      <th>노출수</th>\n",
       "      <th>클릭수</th>\n",
       "      <th>클릭률(%)</th>\n",
       "      <th>평균클릭비용(VAT포함,원)</th>\n",
       "      <th>총비용(VAT포함,원)</th>\n",
       "    </tr>\n",
       "    <tr>\n",
       "      <th>광고그룹</th>\n",
       "      <th></th>\n",
       "      <th></th>\n",
       "      <th></th>\n",
       "      <th></th>\n",
       "      <th></th>\n",
       "    </tr>\n",
       "  </thead>\n",
       "  <tbody>\n",
       "    <tr>\n",
       "      <th>Hyperledger Fabric 프로젝트 CAMP</th>\n",
       "      <td>1990</td>\n",
       "      <td>0.00</td>\n",
       "      <td>0.00</td>\n",
       "      <td>nan</td>\n",
       "      <td>0</td>\n",
       "    </tr>\n",
       "    <tr>\n",
       "      <th>fin_camp_business_4</th>\n",
       "      <td>2136</td>\n",
       "      <td>0.00</td>\n",
       "      <td>0.00</td>\n",
       "      <td>nan</td>\n",
       "      <td>0</td>\n",
       "    </tr>\n",
       "    <tr>\n",
       "      <th>fin_camp_rfs_9</th>\n",
       "      <td>1928</td>\n",
       "      <td>0.00</td>\n",
       "      <td>0.00</td>\n",
       "      <td>nan</td>\n",
       "      <td>0</td>\n",
       "    </tr>\n",
       "    <tr>\n",
       "      <th>다함께 DDD 프로젝트</th>\n",
       "      <td>3689</td>\n",
       "      <td>0.00</td>\n",
       "      <td>0.00</td>\n",
       "      <td>nan</td>\n",
       "      <td>0</td>\n",
       "    </tr>\n",
       "    <tr>\n",
       "      <th>올인원 패키지 : 디지털 마케팅_인스타광고</th>\n",
       "      <td>1377</td>\n",
       "      <td>0.00</td>\n",
       "      <td>0.00</td>\n",
       "      <td>nan</td>\n",
       "      <td>0</td>\n",
       "    </tr>\n",
       "  </tbody>\n",
       "</table>\n",
       "</div>"
      ],
      "text/plain": [
       "                               노출수  클릭수  클릭률(%)  평균클릭비용(VAT포함,원)  총비용(VAT포함,원)\n",
       "광고그룹                                                                          \n",
       "Hyperledger Fabric 프로젝트 CAMP  1990 0.00    0.00              nan             0\n",
       "fin_camp_business_4           2136 0.00    0.00              nan             0\n",
       "fin_camp_rfs_9                1928 0.00    0.00              nan             0\n",
       "다함께 DDD 프로젝트                  3689 0.00    0.00              nan             0\n",
       "올인원 패키지 : 디지털 마케팅_인스타광고       1377 0.00    0.00              nan             0"
      ]
     },
     "execution_count": 318,
     "metadata": {},
     "output_type": "execute_result"
    }
   ],
   "source": [
    "#클릭수 칼럼 중 0인 데이터가 존재 => 평균클릭비용 칼럼 중 결측값이 존재\n",
    "df_group[df_group['클릭수']==0]"
   ]
  },
  {
   "cell_type": "code",
   "execution_count": 319,
   "metadata": {},
   "outputs": [],
   "source": [
    "#평균클릭비용\n",
    "df_group['평균클릭비용(VAT포함,원)']=df_group['평균클릭비용(VAT포함,원)'].fillna(0)"
   ]
  },
  {
   "cell_type": "code",
   "execution_count": 322,
   "metadata": {},
   "outputs": [
    {
     "data": {
      "text/html": [
       "<div>\n",
       "<style scoped>\n",
       "    .dataframe tbody tr th:only-of-type {\n",
       "        vertical-align: middle;\n",
       "    }\n",
       "\n",
       "    .dataframe tbody tr th {\n",
       "        vertical-align: top;\n",
       "    }\n",
       "\n",
       "    .dataframe thead th {\n",
       "        text-align: right;\n",
       "    }\n",
       "</style>\n",
       "<table border=\"1\" class=\"dataframe\">\n",
       "  <thead>\n",
       "    <tr style=\"text-align: right;\">\n",
       "      <th></th>\n",
       "      <th>노출수</th>\n",
       "      <th>클릭수</th>\n",
       "      <th>클릭률(%)</th>\n",
       "      <th>평균클릭비용(VAT포함,원)</th>\n",
       "      <th>총비용(VAT포함,원)</th>\n",
       "    </tr>\n",
       "    <tr>\n",
       "      <th>광고그룹</th>\n",
       "      <th></th>\n",
       "      <th></th>\n",
       "      <th></th>\n",
       "      <th></th>\n",
       "      <th></th>\n",
       "    </tr>\n",
       "  </thead>\n",
       "  <tbody>\n",
       "    <tr>\n",
       "      <th>#000_마케팅 전체_main</th>\n",
       "      <td>709447</td>\n",
       "      <td>403.20</td>\n",
       "      <td>0.00</td>\n",
       "      <td>862</td>\n",
       "      <td>347710</td>\n",
       "    </tr>\n",
       "    <tr>\n",
       "      <th>001.BASIC DESIGN</th>\n",
       "      <td>51647</td>\n",
       "      <td>61.20</td>\n",
       "      <td>0.00</td>\n",
       "      <td>357</td>\n",
       "      <td>21846</td>\n",
       "    </tr>\n",
       "    <tr>\n",
       "      <th>001.데이터분석/ 통계</th>\n",
       "      <td>37150</td>\n",
       "      <td>202.80</td>\n",
       "      <td>0.01</td>\n",
       "      <td>965</td>\n",
       "      <td>195756</td>\n",
       "    </tr>\n",
       "    <tr>\n",
       "      <th>002.R</th>\n",
       "      <td>120724</td>\n",
       "      <td>76.80</td>\n",
       "      <td>0.00</td>\n",
       "      <td>562</td>\n",
       "      <td>43164</td>\n",
       "    </tr>\n",
       "    <tr>\n",
       "      <th>002.UX/UI</th>\n",
       "      <td>15454</td>\n",
       "      <td>20.40</td>\n",
       "      <td>0.00</td>\n",
       "      <td>135</td>\n",
       "      <td>2750</td>\n",
       "    </tr>\n",
       "  </tbody>\n",
       "</table>\n",
       "</div>"
      ],
      "text/plain": [
       "                     노출수    클릭수  클릭률(%)  평균클릭비용(VAT포함,원)  총비용(VAT포함,원)\n",
       "광고그룹                                                                  \n",
       "#000_마케팅 전체_main  709447 403.20    0.00              862        347710\n",
       "001.BASIC DESIGN   51647  61.20    0.00              357         21846\n",
       "001.데이터분석/ 통계      37150 202.80    0.01              965        195756\n",
       "002.R             120724  76.80    0.00              562         43164\n",
       "002.UX/UI          15454  20.40    0.00              135          2750"
      ]
     },
     "execution_count": 322,
     "metadata": {},
     "output_type": "execute_result"
    }
   ],
   "source": [
    "# 평균클릭비용 칼럼 반올림처리(round), 소수점 제거(astype(int)\n",
    "df_group['평균클릭비용(VAT포함,원)']=round(df_group['평균클릭비용(VAT포함,원)'],0)\n",
    "df_group['평균클릭비용(VAT포함,원)']=df_group['평균클릭비용(VAT포함,원)'].astype(int)\n",
    "df_group.head()"
   ]
  },
  {
   "cell_type": "code",
   "execution_count": null,
   "metadata": {},
   "outputs": [],
   "source": []
  },
  {
   "cell_type": "code",
   "execution_count": 331,
   "metadata": {},
   "outputs": [
    {
     "data": {
      "image/png": "[encoded data removed]",
      "text/plain": [
       "<Figure size 1080x576 with 1 Axes>"
      ]
     },
     "metadata": {
      "needs_background": "light"
     },
     "output_type": "display_data"
    }
   ],
   "source": [
    "plt.figure(figsize=(15,8))\n",
    "df_group['노출수'].plot(rot=30)\n",
    "plt.show()"
   ]
  },
  {
   "cell_type": "code",
   "execution_count": 337,
   "metadata": {},
   "outputs": [
    {
     "data": {
      "text/plain": [
       "<matplotlib.axes._subplots.AxesSubplot at 0x14e079d4790>"
      ]
     },
     "execution_count": 337,
     "metadata": {},
     "output_type": "execute_result"
    },
    {
     "data": {
      "image/png": "[encoded data removed]",
      "text/plain": [
       "<Figure size 432x288 with 1 Axes>"
      ]
     },
     "metadata": {
      "needs_background": "light"
     },
     "output_type": "display_data"
    }
   ],
   "source": [
    "(df_group['노출수'].sort_values()).reset_index().drop('광고그룹',axis=1).plot()"
   ]
  },
  {
   "cell_type": "code",
   "execution_count": 338,
   "metadata": {},
   "outputs": [
    {
     "data": {
      "text/plain": [
       "<matplotlib.axes._subplots.AxesSubplot at 0x14e07b66f70>"
      ]
     },
     "execution_count": 338,
     "metadata": {},
     "output_type": "execute_result"
    },
    {
     "data": {
      "image/png": "[encoded data removed]",
      "text/plain": [
       "<Figure size 432x288 with 1 Axes>"
      ]
     },
     "metadata": {
      "needs_background": "light"
     },
     "output_type": "display_data"
    }
   ],
   "source": [
    "(df_group['클릭수'].sort_values()).reset_index().drop('광고그룹',axis=1).plot()"
   ]
  },
  {
   "cell_type": "code",
   "execution_count": 339,
   "metadata": {},
   "outputs": [
    {
     "data": {
      "text/plain": [
       "<matplotlib.axes._subplots.AxesSubplot at 0x14e07bbe790>"
      ]
     },
     "execution_count": 339,
     "metadata": {},
     "output_type": "execute_result"
    },
    {
     "data": {
      "image/png": "[encoded data removed]",
      "text/plain": [
       "<Figure size 432x288 with 1 Axes>"
      ]
     },
     "metadata": {
      "needs_background": "light"
     },
     "output_type": "display_data"
    }
   ],
   "source": [
    "(df_group['총비용(VAT포함,원)'].sort_values()).reset_index().drop('광고그룹',axis=1).plot()"
   ]
  },
  {
   "cell_type": "markdown",
   "metadata": {},
   "source": [
    "▶ (위와 동일) 일반적으로 광고 비용과 노출수는 비례하지만, 곡선의 기울기를 통해 확인할 수 있듯 투자 비용대비 노출수가 상대적으로 낮은 광고가 존재한다."
   ]
  },
  {
   "cell_type": "code",
   "execution_count": null,
   "metadata": {},
   "outputs": [],
   "source": []
  },
  {
   "cell_type": "markdown",
   "metadata": {},
   "source": [
    "# 5. 중점관리 광고그룹 추출"
   ]
  },
  {
   "cell_type": "markdown",
   "metadata": {},
   "source": [
    "### 5-1. 고효율 광고그룹 선별 : 높은 클릭수와 노출수를 기록한 중점관리 광고그룹 판별"
   ]
  },
  {
   "cell_type": "markdown",
   "metadata": {},
   "source": [
    "- 중점관리 광고그룹\n",
    " 1. 상위20%(노출수 80백분위수 이상)\n",
    " 2. 상위10%(클릭수 90백분위수 이상)"
   ]
  },
  {
   "cell_type": "code",
   "execution_count": 340,
   "metadata": {},
   "outputs": [],
   "source": [
    "imp=df_group['노출수']\n",
    "clk=df_group['클릭수']"
   ]
  },
  {
   "cell_type": "code",
   "execution_count": 344,
   "metadata": {},
   "outputs": [
    {
     "data": {
      "text/plain": [
       "Index(['#000_마케팅 전체_main', '1. 코딩', '3. html', '6. 파이썬', 'AOP 전체_중복키워드_디자인',\n",
       "       'AOP 전체_중복키워드_비지니스', 'ㅍAOP 전체_중복키워드_디자인(삭제)', '마케팅 전체',\n",
       "       '올인원 패키지 : 데이터 분석 입문 온라인_파콘', '올인원 패키지 : 디자인 툴_파워컨텐츠_포토샵',\n",
       "       '올인원 패키지 : 업무자동화_VBA', '타이포그래피와 편집디자인', '프로그래밍 전체_파워컨텐츠_블록체인(삭제)'],\n",
       "      dtype='object', name='광고그룹')"
      ]
     },
     "execution_count": 344,
     "metadata": {},
     "output_type": "execute_result"
    }
   ],
   "source": [
    "result=df_group[(imp>=imp.quantile(0.8))&(clk>=clk.quantile(0.9))]\n",
    "result.index"
   ]
  },
  {
   "cell_type": "code",
   "execution_count": null,
   "metadata": {},
   "outputs": [],
   "source": []
  },
  {
   "cell_type": "markdown",
   "metadata": {},
   "source": [
    "### 5-2. 저효율키워드 선별 : 광고 비용 대비 노출/클릭 효율이 저조한 키워드를 판별"
   ]
  },
  {
   "cell_type": "markdown",
   "metadata": {},
   "source": [
    "- 저효율 광고그룹 : \n",
    " 노출수, 클릭수  기준 상위의 키워드가 아닌데도 불구하고 비용이 많이 쓰이고 있는 광고그룹\n",
    " 1. 노출수 80백분위수 미만\n",
    " 2. 클릭수 90백분위수 미만\n",
    " 3. 총비용 60백분위수 이상\n",
    " 4. 총비용 90백분위수 미만"
   ]
  },
  {
   "cell_type": "code",
   "execution_count": 343,
   "metadata": {},
   "outputs": [],
   "source": [
    "cost=df_group['총비용(VAT포함,원)']"
   ]
  },
  {
   "cell_type": "code",
   "execution_count": 345,
   "metadata": {},
   "outputs": [
    {
     "data": {
      "text/plain": [
       "Index(['001.데이터분석/ 통계', '002.마케팅 입문', '003.퍼포먼스 마케팅', '1. 전체', '2. 프로그래밍',\n",
       "       '5. 자료구조', 'AOP 전체_중복키워드_공통', 'AOP 전체_중복키워드_데이터사이언스',\n",
       "       'AOP 전체_중복키워드_프로그래밍', 'JavaScript BOOT CAMP',\n",
       "       'Python & Django를 활용한 웹 서비스_개발자', 'SEO/SEM 전략',\n",
       "       'TensorFlow로 시작하는 딥러닝 입문', 'fin_camp_auction_6', 'ㅍAOP 전체_중복키워드_공통(삭제)',\n",
       "       'ㅍAOP 전체_중복키워드_마케팅(삭제)', 'ㅍAOP 전체_중복키워드_프로그래밍(삭제)',\n",
       "       'ㅍ올인원 패키지 : UX/UI 디자인 입문_연관검색어(삭제)', 'ㅍ올인원 패키지 : 브랜딩',\n",
       "       '고객의 마음을 읽는 구글애널리틱스', '대기업을 이기는 브랜딩 전략', '마케터를 위한 데이터 부트캠프',\n",
       "       '마케터를 위한 데이터 해석 실전', '마케팅 유치원', '마케팅KPI수립',\n",
       "       '올인원 패키지 : 1인 쇼핑몰 시작하기_02.쇼핑몰구축', '올인원 패키지 : 1인 쇼핑몰_00.창업_MO',\n",
       "       '올인원 패키지 : UX/UI 디자인 입문_연관검색어', '올인원 패키지 : 그로스해킹_5.마케팅 분석',\n",
       "       '올인원 패키지 : 디지털 마케팅_1. 디지털 마케팅', '올인원 패키지 : 브랜딩',\n",
       "       '올인원 패키지 : 업무자동화_1. 자동화', '올인원 패키지 : 업무자동화_4. VBA',\n",
       "       '올인원 패키지 : 영상 제작/편집_9.유튜브/유튜버', '왕초보의 파이썬 웹 프로그래밍 CAMP',\n",
       "       '코딩으로 여행하는 블록체인 서비스', '페이스북&인스타그램 마케팅 실전', '프로그래밍 유치원'],\n",
       "      dtype='object', name='광고그룹')"
      ]
     },
     "execution_count": 345,
     "metadata": {},
     "output_type": "execute_result"
    }
   ],
   "source": [
    "result=df_group[(imp<imp.quantile(0.8))&(clk<clk.quantile(0.9))&(cost>=cost.quantile(0.6))&(cost<cost.quantile(0.9))]\n",
    "result.index"
   ]
  }
 ],
 "metadata": {
  "kernelspec": {
   "display_name": "Python 3",
   "language": "python",
   "name": "python3"
  },
  "language_info": {
   "codemirror_mode": {
    "name": "ipython",
    "version": 3
   },
   "file_extension": ".py",
   "mimetype": "text/x-python",
   "name": "python",
   "nbconvert_exporter": "python",
   "pygments_lexer": "ipython3",
   "version": "3.8.3"
  }
 },
 "nbformat": 4,
 "nbformat_minor": 4
}
